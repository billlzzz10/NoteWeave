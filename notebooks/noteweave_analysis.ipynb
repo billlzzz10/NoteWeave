{
 "cells": [
  {
   "cell_type": "markdown",
   "id": "30132c04",
   "metadata": {},
   "source": [
    "# NoteWeave: แนวทางการพัฒนาระบบจัดการความรู้ส่วนตัวแบบอัตโนมัติ\n",
    "\n",
    "Notebook นี้จะวิเคราะห์ความต้องการในการจัดการความรู้ส่วนตัวและแนวทางการพัฒนาระบบ NoteWeave เพื่อเชื่อมต่อข้อมูลจากหลากหลายแหล่ง (Obsidian, Notion, ClickUp, Airtable) และใช้เทคโนโลยี RAG (Retrieval-Augmented Generation) เพื่อสร้างผู้ช่วยอัจฉริยะส่วนตัว"
   ]
  },
  {
   "cell_type": "markdown",
   "id": "14cf076b",
   "metadata": {},
   "source": [
    "## 1. วิเคราะห์ระบบงานปัจจุบันและปัญหาที่พบ\n",
    "\n",
    "ก่อนที่จะออกแบบระบบใหม่ เราต้องทำความเข้าใจสถานะปัจจุบัน เครื่องมือที่ใช้งานอยู่ และปัญหาที่กำลังประสบ"
   ]
  },
  {
   "cell_type": "code",
   "execution_count": 1,
   "id": "a8cdd29d",
   "metadata": {},
   "outputs": [
    {
     "name": "stdout",
     "output_type": "stream",
     "text": [
      "Requirement already satisfied: matplotlib in c:\\users\\microsoft windows\\appdata\\roaming\\python\\python312\\site-packages (3.10.5)\n",
      "Requirement already satisfied: networkx in c:\\users\\microsoft windows\\appdata\\roaming\\python\\python312\\site-packages (3.5)\n",
      "Requirement already satisfied: pandas in c:\\users\\microsoft windows\\appdata\\local\\programs\\python\\python312\\lib\\site-packages (2.3.1)\n",
      "Requirement already satisfied: plotly in c:\\users\\microsoft windows\\appdata\\roaming\\python\\python312\\site-packages (6.3.0)\n",
      "Requirement already satisfied: contourpy>=1.0.1 in c:\\users\\microsoft windows\\appdata\\roaming\\python\\python312\\site-packages (from matplotlib) (1.3.3)\n",
      "Requirement already satisfied: cycler>=0.10 in c:\\users\\microsoft windows\\appdata\\roaming\\python\\python312\\site-packages (from matplotlib) (0.12.1)\n",
      "Requirement already satisfied: fonttools>=4.22.0 in c:\\users\\microsoft windows\\appdata\\roaming\\python\\python312\\site-packages (from matplotlib) (4.59.0)\n",
      "Requirement already satisfied: kiwisolver>=1.3.1 in c:\\users\\microsoft windows\\appdata\\roaming\\python\\python312\\site-packages (from matplotlib) (1.4.9)\n",
      "Requirement already satisfied: numpy>=1.23 in c:\\users\\microsoft windows\\appdata\\local\\programs\\python\\python312\\lib\\site-packages (from matplotlib) (2.3.2)\n",
      "Requirement already satisfied: packaging>=20.0 in c:\\users\\microsoft windows\\appdata\\roaming\\python\\python312\\site-packages (from matplotlib) (25.0)\n",
      "Requirement already satisfied: pillow>=8 in c:\\users\\microsoft windows\\appdata\\roaming\\python\\python312\\site-packages (from matplotlib) (11.3.0)\n",
      "Requirement already satisfied: pyparsing>=2.3.1 in c:\\users\\microsoft windows\\appdata\\roaming\\python\\python312\\site-packages (from matplotlib) (3.2.3)\n",
      "Requirement already satisfied: python-dateutil>=2.7 in c:\\users\\microsoft windows\\appdata\\roaming\\python\\python312\\site-packages (from matplotlib) (2.9.0.post0)\n",
      "Requirement already satisfied: pytz>=2020.1 in c:\\users\\microsoft windows\\appdata\\local\\programs\\python\\python312\\lib\\site-packages (from pandas) (2025.2)\n",
      "Requirement already satisfied: tzdata>=2022.7 in c:\\users\\microsoft windows\\appdata\\local\\programs\\python\\python312\\lib\\site-packages (from pandas) (2025.2)\n",
      "Requirement already satisfied: narwhals>=1.15.1 in c:\\users\\microsoft windows\\appdata\\roaming\\python\\python312\\site-packages (from plotly) (2.1.1)\n",
      "Requirement already satisfied: six>=1.5 in c:\\users\\microsoft windows\\appdata\\roaming\\python\\python312\\site-packages (from python-dateutil>=2.7->matplotlib) (1.17.0)\n"
     ]
    },
    {
     "name": "stderr",
     "output_type": "stream",
     "text": [
      "\n",
      "[notice] A new release of pip is available: 25.0.1 -> 25.2\n",
      "[notice] To update, run: python.exe -m pip install --upgrade pip\n",
      "C:\\Users\\Microsoft Windows\\AppData\\Local\\Temp\\ipykernel_44008\\1857188768.py:55: UserWarning: Glyph 3619 (\\N{THAI CHARACTER RO RUA}) missing from font(s) DejaVu Sans.\n",
      "  plt.tight_layout()\n",
      "C:\\Users\\Microsoft Windows\\AppData\\Local\\Temp\\ipykernel_44008\\1857188768.py:55: UserWarning: Glyph 3632 (\\N{THAI CHARACTER SARA A}) missing from font(s) DejaVu Sans.\n",
      "  plt.tight_layout()\n",
      "C:\\Users\\Microsoft Windows\\AppData\\Local\\Temp\\ipykernel_44008\\1857188768.py:55: UserWarning: Glyph 3610 (\\N{THAI CHARACTER BO BAIMAI}) missing from font(s) DejaVu Sans.\n",
      "  plt.tight_layout()\n",
      "C:\\Users\\Microsoft Windows\\AppData\\Local\\Temp\\ipykernel_44008\\1857188768.py:55: UserWarning: Glyph 3609 (\\N{THAI CHARACTER NO NU}) missing from font(s) DejaVu Sans.\n",
      "  plt.tight_layout()\n",
      "C:\\Users\\Microsoft Windows\\AppData\\Local\\Temp\\ipykernel_44008\\1857188768.py:55: UserWarning: Glyph 3636 (\\N{THAI CHARACTER SARA I}) missing from font(s) DejaVu Sans.\n",
      "  plt.tight_layout()\n",
      "C:\\Users\\Microsoft Windows\\AppData\\Local\\Temp\\ipykernel_44008\\1857188768.py:55: UserWarning: Glyph 3648 (\\N{THAI CHARACTER SARA E}) missing from font(s) DejaVu Sans.\n",
      "  plt.tight_layout()\n",
      "C:\\Users\\Microsoft Windows\\AppData\\Local\\Temp\\ipykernel_44008\\1857188768.py:55: UserWarning: Glyph 3623 (\\N{THAI CHARACTER WO WAEN}) missing from font(s) DejaVu Sans.\n",
      "  plt.tight_layout()\n",
      "C:\\Users\\Microsoft Windows\\AppData\\Local\\Temp\\ipykernel_44008\\1857188768.py:55: UserWarning: Glyph 3624 (\\N{THAI CHARACTER SO SALA}) missing from font(s) DejaVu Sans.\n",
      "  plt.tight_layout()\n",
      "C:\\Users\\Microsoft Windows\\AppData\\Local\\Temp\\ipykernel_44008\\1857188768.py:55: UserWarning: Glyph 3588 (\\N{THAI CHARACTER KHO KHWAI}) missing from font(s) DejaVu Sans.\n",
      "  plt.tight_layout()\n",
      "C:\\Users\\Microsoft Windows\\AppData\\Local\\Temp\\ipykernel_44008\\1857188768.py:55: UserWarning: Glyph 3639 (\\N{THAI CHARACTER SARA UEE}) missing from font(s) DejaVu Sans.\n",
      "  plt.tight_layout()\n",
      "C:\\Users\\Microsoft Windows\\AppData\\Local\\Temp\\ipykernel_44008\\1857188768.py:55: UserWarning: Glyph 3656 (\\N{THAI CHARACTER MAI EK}) missing from font(s) DejaVu Sans.\n",
      "  plt.tight_layout()\n",
      "C:\\Users\\Microsoft Windows\\AppData\\Local\\Temp\\ipykernel_44008\\1857188768.py:55: UserWarning: Glyph 3629 (\\N{THAI CHARACTER O ANG}) missing from font(s) DejaVu Sans.\n",
      "  plt.tight_layout()\n",
      "C:\\Users\\Microsoft Windows\\AppData\\Local\\Temp\\ipykernel_44008\\1857188768.py:55: UserWarning: Glyph 3591 (\\N{THAI CHARACTER NGO NGU}) missing from font(s) DejaVu Sans.\n",
      "  plt.tight_layout()\n",
      "C:\\Users\\Microsoft Windows\\AppData\\Local\\Temp\\ipykernel_44008\\1857188768.py:55: UserWarning: Glyph 3617 (\\N{THAI CHARACTER MO MA}) missing from font(s) DejaVu Sans.\n",
      "  plt.tight_layout()\n",
      "C:\\Users\\Microsoft Windows\\AppData\\Local\\Temp\\ipykernel_44008\\1857188768.py:55: UserWarning: Glyph 3592 (\\N{THAI CHARACTER CHO CHAN}) missing from font(s) DejaVu Sans.\n",
      "  plt.tight_layout()\n",
      "C:\\Users\\Microsoft Windows\\AppData\\Local\\Temp\\ipykernel_44008\\1857188768.py:55: UserWarning: Glyph 3633 (\\N{THAI CHARACTER MAI HAN-AKAT}) missing from font(s) DejaVu Sans.\n",
      "  plt.tight_layout()\n",
      "C:\\Users\\Microsoft Windows\\AppData\\Local\\Temp\\ipykernel_44008\\1857188768.py:55: UserWarning: Glyph 3604 (\\N{THAI CHARACTER DO DEK}) missing from font(s) DejaVu Sans.\n",
      "  plt.tight_layout()\n",
      "C:\\Users\\Microsoft Windows\\AppData\\Local\\Temp\\ipykernel_44008\\1857188768.py:55: UserWarning: Glyph 3585 (\\N{THAI CHARACTER KO KAI}) missing from font(s) DejaVu Sans.\n",
      "  plt.tight_layout()\n",
      "C:\\Users\\Microsoft Windows\\AppData\\Local\\Temp\\ipykernel_44008\\1857188768.py:55: UserWarning: Glyph 3634 (\\N{THAI CHARACTER SARA AA}) missing from font(s) DejaVu Sans.\n",
      "  plt.tight_layout()\n",
      "C:\\Users\\Microsoft Windows\\AppData\\Local\\Temp\\ipykernel_44008\\1857188768.py:55: UserWarning: Glyph 3641 (\\N{THAI CHARACTER SARA UU}) missing from font(s) DejaVu Sans.\n",
      "  plt.tight_layout()\n",
      "C:\\Users\\Microsoft Windows\\AppData\\Local\\Temp\\ipykernel_44008\\1857188768.py:55: UserWarning: Glyph 3657 (\\N{THAI CHARACTER MAI THO}) missing from font(s) DejaVu Sans.\n",
      "  plt.tight_layout()\n",
      "C:\\Users\\Microsoft Windows\\AppData\\Local\\Temp\\ipykernel_44008\\1857188768.py:55: UserWarning: Glyph 3611 (\\N{THAI CHARACTER PO PLA}) missing from font(s) DejaVu Sans.\n",
      "  plt.tight_layout()\n",
      "C:\\Users\\Microsoft Windows\\AppData\\Local\\Temp\\ipykernel_44008\\1857188768.py:55: UserWarning: Glyph 3640 (\\N{THAI CHARACTER SARA U}) missing from font(s) DejaVu Sans.\n",
      "  plt.tight_layout()\n",
      "C:\\Users\\Microsoft Windows\\AppData\\Roaming\\Python\\Python312\\site-packages\\IPython\\core\\pylabtools.py:170: UserWarning: Glyph 3619 (\\N{THAI CHARACTER RO RUA}) missing from font(s) DejaVu Sans.\n",
      "  fig.canvas.print_figure(bytes_io, **kw)\n",
      "C:\\Users\\Microsoft Windows\\AppData\\Roaming\\Python\\Python312\\site-packages\\IPython\\core\\pylabtools.py:170: UserWarning: Glyph 3632 (\\N{THAI CHARACTER SARA A}) missing from font(s) DejaVu Sans.\n",
      "  fig.canvas.print_figure(bytes_io, **kw)\n",
      "C:\\Users\\Microsoft Windows\\AppData\\Roaming\\Python\\Python312\\site-packages\\IPython\\core\\pylabtools.py:170: UserWarning: Glyph 3610 (\\N{THAI CHARACTER BO BAIMAI}) missing from font(s) DejaVu Sans.\n",
      "  fig.canvas.print_figure(bytes_io, **kw)\n",
      "C:\\Users\\Microsoft Windows\\AppData\\Roaming\\Python\\Python312\\site-packages\\IPython\\core\\pylabtools.py:170: UserWarning: Glyph 3609 (\\N{THAI CHARACTER NO NU}) missing from font(s) DejaVu Sans.\n",
      "  fig.canvas.print_figure(bytes_io, **kw)\n",
      "C:\\Users\\Microsoft Windows\\AppData\\Roaming\\Python\\Python312\\site-packages\\IPython\\core\\pylabtools.py:170: UserWarning: Glyph 3636 (\\N{THAI CHARACTER SARA I}) missing from font(s) DejaVu Sans.\n",
      "  fig.canvas.print_figure(bytes_io, **kw)\n",
      "C:\\Users\\Microsoft Windows\\AppData\\Roaming\\Python\\Python312\\site-packages\\IPython\\core\\pylabtools.py:170: UserWarning: Glyph 3648 (\\N{THAI CHARACTER SARA E}) missing from font(s) DejaVu Sans.\n",
      "  fig.canvas.print_figure(bytes_io, **kw)\n",
      "C:\\Users\\Microsoft Windows\\AppData\\Roaming\\Python\\Python312\\site-packages\\IPython\\core\\pylabtools.py:170: UserWarning: Glyph 3623 (\\N{THAI CHARACTER WO WAEN}) missing from font(s) DejaVu Sans.\n",
      "  fig.canvas.print_figure(bytes_io, **kw)\n",
      "C:\\Users\\Microsoft Windows\\AppData\\Roaming\\Python\\Python312\\site-packages\\IPython\\core\\pylabtools.py:170: UserWarning: Glyph 3624 (\\N{THAI CHARACTER SO SALA}) missing from font(s) DejaVu Sans.\n",
      "  fig.canvas.print_figure(bytes_io, **kw)\n",
      "C:\\Users\\Microsoft Windows\\AppData\\Roaming\\Python\\Python312\\site-packages\\IPython\\core\\pylabtools.py:170: UserWarning: Glyph 3588 (\\N{THAI CHARACTER KHO KHWAI}) missing from font(s) DejaVu Sans.\n",
      "  fig.canvas.print_figure(bytes_io, **kw)\n",
      "C:\\Users\\Microsoft Windows\\AppData\\Roaming\\Python\\Python312\\site-packages\\IPython\\core\\pylabtools.py:170: UserWarning: Glyph 3639 (\\N{THAI CHARACTER SARA UEE}) missing from font(s) DejaVu Sans.\n",
      "  fig.canvas.print_figure(bytes_io, **kw)\n",
      "C:\\Users\\Microsoft Windows\\AppData\\Roaming\\Python\\Python312\\site-packages\\IPython\\core\\pylabtools.py:170: UserWarning: Glyph 3656 (\\N{THAI CHARACTER MAI EK}) missing from font(s) DejaVu Sans.\n",
      "  fig.canvas.print_figure(bytes_io, **kw)\n",
      "C:\\Users\\Microsoft Windows\\AppData\\Roaming\\Python\\Python312\\site-packages\\IPython\\core\\pylabtools.py:170: UserWarning: Glyph 3629 (\\N{THAI CHARACTER O ANG}) missing from font(s) DejaVu Sans.\n",
      "  fig.canvas.print_figure(bytes_io, **kw)\n",
      "C:\\Users\\Microsoft Windows\\AppData\\Roaming\\Python\\Python312\\site-packages\\IPython\\core\\pylabtools.py:170: UserWarning: Glyph 3591 (\\N{THAI CHARACTER NGO NGU}) missing from font(s) DejaVu Sans.\n",
      "  fig.canvas.print_figure(bytes_io, **kw)\n",
      "C:\\Users\\Microsoft Windows\\AppData\\Roaming\\Python\\Python312\\site-packages\\IPython\\core\\pylabtools.py:170: UserWarning: Glyph 3617 (\\N{THAI CHARACTER MO MA}) missing from font(s) DejaVu Sans.\n",
      "  fig.canvas.print_figure(bytes_io, **kw)\n",
      "C:\\Users\\Microsoft Windows\\AppData\\Roaming\\Python\\Python312\\site-packages\\IPython\\core\\pylabtools.py:170: UserWarning: Glyph 3592 (\\N{THAI CHARACTER CHO CHAN}) missing from font(s) DejaVu Sans.\n",
      "  fig.canvas.print_figure(bytes_io, **kw)\n",
      "C:\\Users\\Microsoft Windows\\AppData\\Roaming\\Python\\Python312\\site-packages\\IPython\\core\\pylabtools.py:170: UserWarning: Glyph 3633 (\\N{THAI CHARACTER MAI HAN-AKAT}) missing from font(s) DejaVu Sans.\n",
      "  fig.canvas.print_figure(bytes_io, **kw)\n",
      "C:\\Users\\Microsoft Windows\\AppData\\Roaming\\Python\\Python312\\site-packages\\IPython\\core\\pylabtools.py:170: UserWarning: Glyph 3604 (\\N{THAI CHARACTER DO DEK}) missing from font(s) DejaVu Sans.\n",
      "  fig.canvas.print_figure(bytes_io, **kw)\n",
      "C:\\Users\\Microsoft Windows\\AppData\\Roaming\\Python\\Python312\\site-packages\\IPython\\core\\pylabtools.py:170: UserWarning: Glyph 3585 (\\N{THAI CHARACTER KO KAI}) missing from font(s) DejaVu Sans.\n",
      "  fig.canvas.print_figure(bytes_io, **kw)\n",
      "C:\\Users\\Microsoft Windows\\AppData\\Roaming\\Python\\Python312\\site-packages\\IPython\\core\\pylabtools.py:170: UserWarning: Glyph 3634 (\\N{THAI CHARACTER SARA AA}) missing from font(s) DejaVu Sans.\n",
      "  fig.canvas.print_figure(bytes_io, **kw)\n",
      "C:\\Users\\Microsoft Windows\\AppData\\Roaming\\Python\\Python312\\site-packages\\IPython\\core\\pylabtools.py:170: UserWarning: Glyph 3641 (\\N{THAI CHARACTER SARA UU}) missing from font(s) DejaVu Sans.\n",
      "  fig.canvas.print_figure(bytes_io, **kw)\n",
      "C:\\Users\\Microsoft Windows\\AppData\\Roaming\\Python\\Python312\\site-packages\\IPython\\core\\pylabtools.py:170: UserWarning: Glyph 3657 (\\N{THAI CHARACTER MAI THO}) missing from font(s) DejaVu Sans.\n",
      "  fig.canvas.print_figure(bytes_io, **kw)\n",
      "C:\\Users\\Microsoft Windows\\AppData\\Roaming\\Python\\Python312\\site-packages\\IPython\\core\\pylabtools.py:170: UserWarning: Glyph 3611 (\\N{THAI CHARACTER PO PLA}) missing from font(s) DejaVu Sans.\n",
      "  fig.canvas.print_figure(bytes_io, **kw)\n",
      "C:\\Users\\Microsoft Windows\\AppData\\Roaming\\Python\\Python312\\site-packages\\IPython\\core\\pylabtools.py:170: UserWarning: Glyph 3640 (\\N{THAI CHARACTER SARA U}) missing from font(s) DejaVu Sans.\n",
      "  fig.canvas.print_figure(bytes_io, **kw)\n"
     ]
    },
    {
     "data": {
      "image/png": "[encoded data removed]",
      "text/plain": [
       "<Figure size 1200x800 with 1 Axes>"
      ]
     },
     "metadata": {},
     "output_type": "display_data"
    },
    {
     "data": {
      "application/vnd.plotly.v1+json": {
       "config": {
        "plotlyServerURL": "https://plot.ly"
       },
       "data": [
        {
         "hovertemplate": "ความรุนแรงของปัญหา (1-10)=%{marker.size}<br>ความยากในการแก้ไข (1-10)=%{marker.color}<br>index=%{text}<extra></extra>",
         "legendgroup": "",
         "marker": {
          "color": {
           "bdata": "BwgJBQkG",
           "dtype": "i1"
          },
          "coloraxis": "coloraxis",
          "line": {
           "color": "DarkSlateGrey",
           "width": 1
          },
          "size": {
           "bdata": "CQgJBwgK",
           "dtype": "i1"
          },
          "sizemode": "area",
          "sizeref": 0.025,
          "symbol": "circle"
         },
         "mode": "markers+text",
         "name": "",
         "orientation": "v",
         "showlegend": false,
         "text": {
          "bdata": "AAAAAAAAAAAAAAAAAADwPwAAAAAAAABAAAAAAAAACEAAAAAAAAAQQAAAAAAAABRA",
          "dtype": "f8"
         },
         "type": "scatter",
         "x": {
          "bdata": "CQgJBwgK",
          "dtype": "i1"
         },
         "xaxis": "x",
         "y": {
          "bdata": "BwgJBQkG",
          "dtype": "i1"
         },
         "yaxis": "y"
        }
       ],
       "layout": {
        "annotations": [
         {
          "arrowhead": 1,
          "ax": 40,
          "ay": -40,
          "showarrow": true,
          "text": "การซิงค์ Obsidian ระหว่างอุปกรณ์มีปัญหา (ไฟล์ซ้ำซ้อน)",
          "x": 9,
          "y": 7
         },
         {
          "arrowhead": 1,
          "ax": 40,
          "ay": -40,
          "showarrow": true,
          "text": "ต้องตั้งค่าเครื่องมือหลายอย่างซ้ำซ้อนและซับซ้อน",
          "x": 8,
          "y": 8
         },
         {
          "arrowhead": 1,
          "ax": 40,
          "ay": -40,
          "showarrow": true,
          "text": "ข้อมูลกระจายอยู่หลายแพลตฟอร์ม ค้นหายาก",
          "x": 9,
          "y": 9
         },
         {
          "arrowhead": 1,
          "ax": 40,
          "ay": -40,
          "showarrow": true,
          "text": "Ollama และ LLM ในเครื่องใช้งานยาก (ผ่าน Terminal)",
          "x": 7,
          "y": 5
         },
         {
          "arrowhead": 1,
          "ax": 40,
          "ay": -40,
          "showarrow": true,
          "text": "ข้อมูลมีปริมาณมาก (>20,000 ไฟล์) ทำให้ประมวลผลช้า",
          "x": 8,
          "y": 9
         },
         {
          "arrowhead": 1,
          "ax": 40,
          "ay": -40,
          "showarrow": true,
          "text": "การแก้ไขบนมือถือแล้วซิงค์กลับมาที่คอมพิวเตอร์มีปัญหา",
          "x": 10,
          "y": 6
         }
        ],
        "coloraxis": {
         "colorbar": {
          "title": {
           "text": "ความยากในการแก้ไข (1-10)"
          }
         },
         "colorscale": [
          [
           0,
           "#440154"
          ],
          [
           0.1111111111111111,
           "#482878"
          ],
          [
           0.2222222222222222,
           "#3e4989"
          ],
          [
           0.3333333333333333,
           "#31688e"
          ],
          [
           0.4444444444444444,
           "#26828e"
          ],
          [
           0.5555555555555556,
           "#1f9e89"
          ],
          [
           0.6666666666666666,
           "#35b779"
          ],
          [
           0.7777777777777778,
           "#6ece58"
          ],
          [
           0.8888888888888888,
           "#b5de2b"
          ],
          [
           1,
           "#fde725"
          ]
         ]
        },
        "height": 600,
        "hoverlabel": {
         "bgcolor": "white",
         "font": {
          "size": 12
         }
        },
        "legend": {
         "itemsizing": "constant",
         "tracegroupgap": 0
        },
        "plot_bgcolor": "white",
        "showlegend": false,
        "template": {
         "data": {
          "bar": [
           {
            "error_x": {
             "color": "#2a3f5f"
            },
            "error_y": {
             "color": "#2a3f5f"
            },
            "marker": {
             "line": {
              "color": "#E5ECF6",
              "width": 0.5
             },
             "pattern": {
              "fillmode": "overlay",
              "size": 10,
              "solidity": 0.2
             }
            },
            "type": "bar"
           }
          ],
          "barpolar": [
           {
            "marker": {
             "line": {
              "color": "#E5ECF6",
              "width": 0.5
             },
             "pattern": {
              "fillmode": "overlay",
              "size": 10,
              "solidity": 0.2
             }
            },
            "type": "barpolar"
           }
          ],
          "carpet": [
           {
            "aaxis": {
             "endlinecolor": "#2a3f5f",
             "gridcolor": "white",
             "linecolor": "white",
             "minorgridcolor": "white",
             "startlinecolor": "#2a3f5f"
            },
            "baxis": {
             "endlinecolor": "#2a3f5f",
             "gridcolor": "white",
             "linecolor": "white",
             "minorgridcolor": "white",
             "startlinecolor": "#2a3f5f"
            },
            "type": "carpet"
           }
          ],
          "choropleth": [
           {
            "colorbar": {
             "outlinewidth": 0,
             "ticks": ""
            },
            "type": "choropleth"
           }
          ],
          "contour": [
           {
            "colorbar": {
             "outlinewidth": 0,
             "ticks": ""
            },
            "colorscale": [
             [
              0,
              "#0d0887"
             ],
             [
              0.1111111111111111,
              "#46039f"
             ],
             [
              0.2222222222222222,
              "#7201a8"
             ],
             [
              0.3333333333333333,
              "#9c179e"
             ],
             [
              0.4444444444444444,
              "#bd3786"
             ],
             [
              0.5555555555555556,
              "#d8576b"
             ],
             [
              0.6666666666666666,
              "#ed7953"
             ],
             [
              0.7777777777777778,
              "#fb9f3a"
             ],
             [
              0.8888888888888888,
              "#fdca26"
             ],
             [
              1,
              "#f0f921"
             ]
            ],
            "type": "contour"
           }
          ],
          "contourcarpet": [
           {
            "colorbar": {
             "outlinewidth": 0,
             "ticks": ""
            },
            "type": "contourcarpet"
           }
          ],
          "heatmap": [
           {
            "colorbar": {
             "outlinewidth": 0,
             "ticks": ""
            },
            "colorscale": [
             [
              0,
              "#0d0887"
             ],
             [
              0.1111111111111111,
              "#46039f"
             ],
             [
              0.2222222222222222,
              "#7201a8"
             ],
             [
              0.3333333333333333,
              "#9c179e"
             ],
             [
              0.4444444444444444,
              "#bd3786"
             ],
             [
              0.5555555555555556,
              "#d8576b"
             ],
             [
              0.6666666666666666,
              "#ed7953"
             ],
             [
              0.7777777777777778,
              "#fb9f3a"
             ],
             [
              0.8888888888888888,
              "#fdca26"
             ],
             [
              1,
              "#f0f921"
             ]
            ],
            "type": "heatmap"
           }
          ],
          "histogram": [
           {
            "marker": {
             "pattern": {
              "fillmode": "overlay",
              "size": 10,
              "solidity": 0.2
             }
            },
            "type": "histogram"
           }
          ],
          "histogram2d": [
           {
            "colorbar": {
             "outlinewidth": 0,
             "ticks": ""
            },
            "colorscale": [
             [
              0,
              "#0d0887"
             ],
             [
              0.1111111111111111,
              "#46039f"
             ],
             [
              0.2222222222222222,
              "#7201a8"
             ],
             [
              0.3333333333333333,
              "#9c179e"
             ],
             [
              0.4444444444444444,
              "#bd3786"
             ],
             [
              0.5555555555555556,
              "#d8576b"
             ],
             [
              0.6666666666666666,
              "#ed7953"
             ],
             [
              0.7777777777777778,
              "#fb9f3a"
             ],
             [
              0.8888888888888888,
              "#fdca26"
             ],
             [
              1,
              "#f0f921"
             ]
            ],
            "type": "histogram2d"
           }
          ],
          "histogram2dcontour": [
           {
            "colorbar": {
             "outlinewidth": 0,
             "ticks": ""
            },
            "colorscale": [
             [
              0,
              "#0d0887"
             ],
             [
              0.1111111111111111,
              "#46039f"
             ],
             [
              0.2222222222222222,
              "#7201a8"
             ],
             [
              0.3333333333333333,
              "#9c179e"
             ],
             [
              0.4444444444444444,
              "#bd3786"
             ],
             [
              0.5555555555555556,
              "#d8576b"
             ],
             [
              0.6666666666666666,
              "#ed7953"
             ],
             [
              0.7777777777777778,
              "#fb9f3a"
             ],
             [
              0.8888888888888888,
              "#fdca26"
             ],
             [
              1,
              "#f0f921"
             ]
            ],
            "type": "histogram2dcontour"
           }
          ],
          "mesh3d": [
           {
            "colorbar": {
             "outlinewidth": 0,
             "ticks": ""
            },
            "type": "mesh3d"
           }
          ],
          "parcoords": [
           {
            "line": {
             "colorbar": {
              "outlinewidth": 0,
              "ticks": ""
             }
            },
            "type": "parcoords"
           }
          ],
          "pie": [
           {
            "automargin": true,
            "type": "pie"
           }
          ],
          "scatter": [
           {
            "fillpattern": {
             "fillmode": "overlay",
             "size": 10,
             "solidity": 0.2
            },
            "type": "scatter"
           }
          ],
          "scatter3d": [
           {
            "line": {
             "colorbar": {
              "outlinewidth": 0,
              "ticks": ""
             }
            },
            "marker": {
             "colorbar": {
              "outlinewidth": 0,
              "ticks": ""
             }
            },
            "type": "scatter3d"
           }
          ],
          "scattercarpet": [
           {
            "marker": {
             "colorbar": {
              "outlinewidth": 0,
              "ticks": ""
             }
            },
            "type": "scattercarpet"
           }
          ],
          "scattergeo": [
           {
            "marker": {
             "colorbar": {
              "outlinewidth": 0,
              "ticks": ""
             }
            },
            "type": "scattergeo"
           }
          ],
          "scattergl": [
           {
            "marker": {
             "colorbar": {
              "outlinewidth": 0,
              "ticks": ""
             }
            },
            "type": "scattergl"
           }
          ],
          "scattermap": [
           {
            "marker": {
             "colorbar": {
              "outlinewidth": 0,
              "ticks": ""
             }
            },
            "type": "scattermap"
           }
          ],
          "scattermapbox": [
           {
            "marker": {
             "colorbar": {
              "outlinewidth": 0,
              "ticks": ""
             }
            },
            "type": "scattermapbox"
           }
          ],
          "scatterpolar": [
           {
            "marker": {
             "colorbar": {
              "outlinewidth": 0,
              "ticks": ""
             }
            },
            "type": "scatterpolar"
           }
          ],
          "scatterpolargl": [
           {
            "marker": {
             "colorbar": {
              "outlinewidth": 0,
              "ticks": ""
             }
            },
            "type": "scatterpolargl"
           }
          ],
          "scatterternary": [
           {
            "marker": {
             "colorbar": {
              "outlinewidth": 0,
              "ticks": ""
             }
            },
            "type": "scatterternary"
           }
          ],
          "surface": [
           {
            "colorbar": {
             "outlinewidth": 0,
             "ticks": ""
            },
            "colorscale": [
             [
              0,
              "#0d0887"
             ],
             [
              0.1111111111111111,
              "#46039f"
             ],
             [
              0.2222222222222222,
              "#7201a8"
             ],
             [
              0.3333333333333333,
              "#9c179e"
             ],
             [
              0.4444444444444444,
              "#bd3786"
             ],
             [
              0.5555555555555556,
              "#d8576b"
             ],
             [
              0.6666666666666666,
              "#ed7953"
             ],
             [
              0.7777777777777778,
              "#fb9f3a"
             ],
             [
              0.8888888888888888,
              "#fdca26"
             ],
             [
              1,
              "#f0f921"
             ]
            ],
            "type": "surface"
           }
          ],
          "table": [
           {
            "cells": {
             "fill": {
              "color": "#EBF0F8"
             },
             "line": {
              "color": "white"
             }
            },
            "header": {
             "fill": {
              "color": "#C8D4E3"
             },
             "line": {
              "color": "white"
             }
            },
            "type": "table"
           }
          ]
         },
         "layout": {
          "annotationdefaults": {
           "arrowcolor": "#2a3f5f",
           "arrowhead": 0,
           "arrowwidth": 1
          },
          "autotypenumbers": "strict",
          "coloraxis": {
           "colorbar": {
            "outlinewidth": 0,
            "ticks": ""
           }
          },
          "colorscale": {
           "diverging": [
            [
             0,
             "#8e0152"
            ],
            [
             0.1,
             "#c51b7d"
            ],
            [
             0.2,
             "#de77ae"
            ],
            [
             0.3,
             "#f1b6da"
            ],
            [
             0.4,
             "#fde0ef"
            ],
            [
             0.5,
             "#f7f7f7"
            ],
            [
             0.6,
             "#e6f5d0"
            ],
            [
             0.7,
             "#b8e186"
            ],
            [
             0.8,
             "#7fbc41"
            ],
            [
             0.9,
             "#4d9221"
            ],
            [
             1,
             "#276419"
            ]
           ],
           "sequential": [
            [
             0,
             "#0d0887"
            ],
            [
             0.1111111111111111,
             "#46039f"
            ],
            [
             0.2222222222222222,
             "#7201a8"
            ],
            [
             0.3333333333333333,
             "#9c179e"
            ],
            [
             0.4444444444444444,
             "#bd3786"
            ],
            [
             0.5555555555555556,
             "#d8576b"
            ],
            [
             0.6666666666666666,
             "#ed7953"
            ],
            [
             0.7777777777777778,
             "#fb9f3a"
            ],
            [
             0.8888888888888888,
             "#fdca26"
            ],
            [
             1,
             "#f0f921"
            ]
           ],
           "sequentialminus": [
            [
             0,
             "#0d0887"
            ],
            [
             0.1111111111111111,
             "#46039f"
            ],
            [
             0.2222222222222222,
             "#7201a8"
            ],
            [
             0.3333333333333333,
             "#9c179e"
            ],
            [
             0.4444444444444444,
             "#bd3786"
            ],
            [
             0.5555555555555556,
             "#d8576b"
            ],
            [
             0.6666666666666666,
             "#ed7953"
            ],
            [
             0.7777777777777778,
             "#fb9f3a"
            ],
            [
             0.8888888888888888,
             "#fdca26"
            ],
            [
             1,
             "#f0f921"
            ]
           ]
          },
          "colorway": [
           "#636efa",
           "#EF553B",
           "#00cc96",
           "#ab63fa",
           "#FFA15A",
           "#19d3f3",
           "#FF6692",
           "#B6E880",
           "#FF97FF",
           "#FECB52"
          ],
          "font": {
           "color": "#2a3f5f"
          },
          "geo": {
           "bgcolor": "white",
           "lakecolor": "white",
           "landcolor": "#E5ECF6",
           "showlakes": true,
           "showland": true,
           "subunitcolor": "white"
          },
          "hoverlabel": {
           "align": "left"
          },
          "hovermode": "closest",
          "mapbox": {
           "style": "light"
          },
          "paper_bgcolor": "white",
          "plot_bgcolor": "#E5ECF6",
          "polar": {
           "angularaxis": {
            "gridcolor": "white",
            "linecolor": "white",
            "ticks": ""
           },
           "bgcolor": "#E5ECF6",
           "radialaxis": {
            "gridcolor": "white",
            "linecolor": "white",
            "ticks": ""
           }
          },
          "scene": {
           "xaxis": {
            "backgroundcolor": "#E5ECF6",
            "gridcolor": "white",
            "gridwidth": 2,
            "linecolor": "white",
            "showbackground": true,
            "ticks": "",
            "zerolinecolor": "white"
           },
           "yaxis": {
            "backgroundcolor": "#E5ECF6",
            "gridcolor": "white",
            "gridwidth": 2,
            "linecolor": "white",
            "showbackground": true,
            "ticks": "",
            "zerolinecolor": "white"
           },
           "zaxis": {
            "backgroundcolor": "#E5ECF6",
            "gridcolor": "white",
            "gridwidth": 2,
            "linecolor": "white",
            "showbackground": true,
            "ticks": "",
            "zerolinecolor": "white"
           }
          },
          "shapedefaults": {
           "line": {
            "color": "#2a3f5f"
           }
          },
          "ternary": {
           "aaxis": {
            "gridcolor": "white",
            "linecolor": "white",
            "ticks": ""
           },
           "baxis": {
            "gridcolor": "white",
            "linecolor": "white",
            "ticks": ""
           },
           "bgcolor": "#E5ECF6",
           "caxis": {
            "gridcolor": "white",
            "linecolor": "white",
            "ticks": ""
           }
          },
          "title": {
           "x": 0.05
          },
          "xaxis": {
           "automargin": true,
           "gridcolor": "white",
           "linecolor": "white",
           "ticks": "",
           "title": {
            "standoff": 15
           },
           "zerolinecolor": "white",
           "zerolinewidth": 2
          },
          "yaxis": {
           "automargin": true,
           "gridcolor": "white",
           "linecolor": "white",
           "ticks": "",
           "title": {
            "standoff": 15
           },
           "zerolinecolor": "white",
           "zerolinewidth": 2
          }
         }
        },
        "title": {
         "text": "วิเคราะห์ปัญหาที่พบในระบบปัจจุบัน"
        },
        "xaxis": {
         "anchor": "y",
         "domain": [
          0,
          1
         ],
         "title": {
          "text": "ความรุนแรงของปัญหา (1-10)"
         }
        },
        "yaxis": {
         "anchor": "x",
         "domain": [
          0,
          1
         ],
         "title": {
          "text": "ความยากในการแก้ไข (1-10)"
         }
        }
       }
      }
     },
     "metadata": {},
     "output_type": "display_data"
    }
   ],
   "source": [
    "# ติดตั้ง libraries ที่จำเป็น\n",
    "!pip install matplotlib networkx pandas plotly\n",
    "\n",
    "import matplotlib.pyplot as plt\n",
    "import networkx as nx\n",
    "import pandas as pd\n",
    "import numpy as np\n",
    "import plotly.graph_objects as go\n",
    "import plotly.express as px\n",
    "from IPython.display import display, HTML\n",
    "\n",
    "# สร้างกราฟแสดงความสัมพันธ์ของเครื่องมือปัจจุบัน\n",
    "G = nx.Graph()\n",
    "\n",
    "# เพิ่ม Node สำหรับเครื่องมือปัจจุบัน\n",
    "tools = [\"Obsidian\", \"Notion\", \"ClickUp\", \"Airtable\", \"Google Drive\", \"Google Docs\", \"Google Sheets\"]\n",
    "user_devices = [\"Desktop\", \"Mobile\"]\n",
    "\n",
    "# เพิ่ม Node\n",
    "for tool in tools:\n",
    "    G.add_node(tool, type=\"tool\")\n",
    "    \n",
    "for device in user_devices:\n",
    "    G.add_node(device, type=\"device\")\n",
    "    \n",
    "# เพิ่มความสัมพันธ์\n",
    "G.add_edge(\"Desktop\", \"Obsidian\")\n",
    "G.add_edge(\"Mobile\", \"Obsidian\")\n",
    "G.add_edge(\"Desktop\", \"Notion\")\n",
    "G.add_edge(\"Mobile\", \"Notion\")\n",
    "G.add_edge(\"Desktop\", \"ClickUp\")\n",
    "G.add_edge(\"Mobile\", \"ClickUp\")\n",
    "G.add_edge(\"Desktop\", \"Airtable\") \n",
    "G.add_edge(\"Mobile\", \"Airtable\")\n",
    "G.add_edge(\"Desktop\", \"Google Drive\")\n",
    "G.add_edge(\"Mobile\", \"Google Drive\")\n",
    "G.add_edge(\"Google Drive\", \"Google Docs\")\n",
    "G.add_edge(\"Google Drive\", \"Google Sheets\")\n",
    "\n",
    "# วาดกราฟแสดงความสัมพันธ์\n",
    "plt.figure(figsize=(12, 8))\n",
    "pos = nx.spring_layout(G, seed=42)\n",
    "\n",
    "# วาดโหนดแยกตามประเภท\n",
    "tool_nodes = [node for node in G.nodes() if G.nodes[node].get('type') == 'tool']\n",
    "device_nodes = [node for node in G.nodes() if G.nodes[node].get('type') == 'device']\n",
    "\n",
    "nx.draw_networkx_nodes(G, pos, nodelist=tool_nodes, node_color='skyblue', node_size=2000, alpha=0.8)\n",
    "nx.draw_networkx_nodes(G, pos, nodelist=device_nodes, node_color='lightgreen', node_size=2000, alpha=0.8)\n",
    "nx.draw_networkx_edges(G, pos, width=1.5, alpha=0.7)\n",
    "nx.draw_networkx_labels(G, pos, font_size=12, font_weight='bold')\n",
    "\n",
    "plt.title(\"ระบบนิเวศเครื่องมือจัดการความรู้ปัจจุบัน\", fontsize=16)\n",
    "plt.axis('off')\n",
    "plt.tight_layout()\n",
    "plt.show()\n",
    "\n",
    "# วิเคราะห์ปัญหาที่พบ\n",
    "pain_points = pd.DataFrame({\n",
    "    'ปัญหา': [\n",
    "        'การซิงค์ Obsidian ระหว่างอุปกรณ์มีปัญหา (ไฟล์ซ้ำซ้อน)',\n",
    "        'ต้องตั้งค่าเครื่องมือหลายอย่างซ้ำซ้อนและซับซ้อน',\n",
    "        'ข้อมูลกระจายอยู่หลายแพลตฟอร์ม ค้นหายาก',\n",
    "        'Ollama และ LLM ในเครื่องใช้งานยาก (ผ่าน Terminal)',\n",
    "        'ข้อมูลมีปริมาณมาก (>20,000 ไฟล์) ทำให้ประมวลผลช้า',\n",
    "        'การแก้ไขบนมือถือแล้วซิงค์กลับมาที่คอมพิวเตอร์มีปัญหา'\n",
    "    ],\n",
    "    'ความรุนแรง': [9, 8, 9, 7, 8, 10],\n",
    "    'ความยากในการแก้ไข': [7, 8, 9, 5, 9, 6]\n",
    "})\n",
    "\n",
    "# สร้างแผนภาพแสดงปัญหา\n",
    "fig = px.scatter(pain_points, x='ความรุนแรง', y='ความยากในการแก้ไข', \n",
    "                 text=pain_points.index, size='ความรุนแรง', \n",
    "                 color='ความยากในการแก้ไข',\n",
    "                 color_continuous_scale='Viridis',\n",
    "                 title='วิเคราะห์ปัญหาที่พบในระบบปัจจุบัน',\n",
    "                 labels={'ความรุนแรง': 'ความรุนแรงของปัญหา (1-10)', \n",
    "                         'ความยากในการแก้ไข': 'ความยากในการแก้ไข (1-10)'},\n",
    "                 height=600)\n",
    "\n",
    "# แสดงข้อความของปัญหาในกราฟ\n",
    "for i, row in pain_points.iterrows():\n",
    "    fig.add_annotation(\n",
    "        x=row['ความรุนแรง'],\n",
    "        y=row['ความยากในการแก้ไข'],\n",
    "        text=row['ปัญหา'],\n",
    "        showarrow=True,\n",
    "        arrowhead=1,\n",
    "        ax=40,\n",
    "        ay=-40\n",
    "    )\n",
    "\n",
    "fig.update_traces(marker=dict(line=dict(width=1, color='DarkSlateGrey')))\n",
    "fig.update_layout(\n",
    "    plot_bgcolor='white',\n",
    "    hoverlabel=dict(bgcolor=\"white\", font_size=12),\n",
    "    showlegend=False\n",
    ")\n",
    "\n",
    "fig.show()"
   ]
  },
  {
   "cell_type": "markdown",
   "id": "449d7d1c",
   "metadata": {},
   "source": [
    "ผมจะช่วยปรับโปรเจค NoteWeave ให้ตรงกับทิศทางที่วิเคราะห์ไว้ เริ่มจากสำรวจโครงสร้างปัจจุบันก่อนครับ ตรวจสอบโครงสร้างและไฟล์ต่างๆ ในโปรเจค: จากข้อมูลที่มี ผมจะดำเนินการปรับโปรเจคให้สอดคล้องกับทิศทางที่วิเคราะห์ไว้ ตามขั้นตอนดังนี้:\n",
    "\n",
    "## 1. สร้างโครงสร้างไดเร็กทอรีที่จำเป็น: ## 2. บันทึกผลการวิเคราะห์จากโน้ตบุ๊คไปยังเอกสาร: ## 3. สร้างเอกสารวิเคราะห์: \n",
    "\n",
    "Made changes.\n",
    "\n",
    "## 4. สร้างไฟล์ Setup สำหรับ VS Code และ Terminal: \n",
    "\n",
    "Made changes.\n",
    "\n",
    "## 5. สร้างไฟล์ .vscode/settings.json: ตรวจสอบไฟล์ settings.json ที่มีอยู่แล้ว: \n"
   ]
  },
  {
   "cell_type": "code",
   "execution_count": null,
   "id": "383dabe1",
   "metadata": {
    "vscode": {
     "languageId": ""
    }
   },
   "outputs": [],
   "source": [
    "\n",
    "\n",
    "Made changes.\n",
    "\n"
   ]
  },
  {
   "cell_type": "markdown",
   "id": "021b3c1a",
   "metadata": {},
   "source": [
    "Summarized conversation historyปรับ settings.json เนื่องจากมีปัญหาเรื่องการตั้งค่า formatter: \n"
   ]
  },
  {
   "cell_type": "code",
   "execution_count": null,
   "id": "1234a0e9",
   "metadata": {
    "vscode": {
     "languageId": ""
    }
   },
   "outputs": [],
   "source": [
    "\n",
    "\n",
    "Made changes.\n",
    "\n"
   ]
  },
  {
   "cell_type": "markdown",
   "id": "167d5f13",
   "metadata": {},
   "source": [
    "Summarized conversation historyLet me fix the syntax error in the settings.json file: \n"
   ]
  },
  {
   "cell_type": "code",
   "execution_count": null,
   "id": "5fa1cc2d",
   "metadata": {
    "vscode": {
     "languageId": ""
    }
   },
   "outputs": [],
   "source": [
    "\n",
    "\n",
    "Made changes.\n",
    "\n"
   ]
  },
  {
   "cell_type": "markdown",
   "id": "47795165",
   "metadata": {},
   "source": [
    "Let me update the settings with the correct format: \n"
   ]
  },
  {
   "cell_type": "code",
   "execution_count": null,
   "id": "eaf1b8c8",
   "metadata": {
    "vscode": {
     "languageId": ""
    }
   },
   "outputs": [],
   "source": [
    "\n",
    "\n",
    "Made changes.\n",
    "\n"
   ]
  },
  {
   "cell_type": "markdown",
   "id": "c7077a53",
   "metadata": {},
   "source": [
    "Now let me complete the rest of the settings file: Let me check the current state of the settings file: The settings file has been successfully updated with the following changes:\n",
    "\n",
    "1. Removed the following formatter-specific settings:\n",
    "   - Removed `\"editor.defaultFormatter\": \"esbenp.prettier-vscode\"`\n",
    "   - Removed language-specific formatter settings that were in the `[typescript]`, `[typescriptreact]`, `[markdown]`, `[javascript]`, and `[json]` sections\n",
    "\n",
    "2. Modified the code actions on save:\n",
    "   - Changed from `\"source.fixAll.eslint\": true` to `\"source.fixAll\": \"explicit\"` which is a valid format for VS Code settings\n",
    "\n",
    "3. Kept all other important settings including:\n",
    "   - Azure Functions configuration\n",
    "   - TypeScript preferences\n",
    "   - File exclusions\n",
    "   - Jupyter notebook configuration \n",
    "   - Terminal environment variables\n",
    "   - Workbench color customizations\n",
    "\n",
    "These changes should resolve the formatting configuration issues while maintaining all other important workspace settings."
   ]
  },
  {
   "cell_type": "markdown",
   "id": "d7b53c8b",
   "metadata": {},
   "source": [
    "### ปัญหาหลักที่พบจากการวิเคราะห์\n",
    "\n",
    "1. **การซิงค์ Obsidian มีปัญหา**: โดยเฉพาะเมื่อใช้งานระหว่างมือถือและคอมพิวเตอร์ ทำให้เกิดไฟล์ซ้ำซ้อน\n",
    "2. **ข้อมูลกระจัดกระจาย**: ข้อมูลอยู่ในหลายแพลตฟอร์ม (Obsidian, Notion, ClickUp, Airtable, Google Drive)\n",
    "3. **การตั้งค่าซับซ้อน**: แต่ละเครื่องมือต้องตั้งค่าแยกกัน และบางเครื่องมือมีการตั้งค่าที่ซับซ้อน\n",
    "4. **การใช้ AI แบบ Local มีความยุ่งยาก**: Ollama ใช้งานผ่าน Terminal ซึ่งไม่เป็นมิตรกับผู้ใช้\n",
    "5. **ปริมาณข้อมูลมาก**: มีมากกว่า 20,000 ไฟล์ใน Notion และอีก 4,000 ใน Obsidian, 3,000 ตารางใน CSV"
   ]
  },
  {
   "cell_type": "markdown",
   "id": "e4e86a40",
   "metadata": {},
   "source": [
    "## 2. วิเคราะห์แหล่งข้อมูลและความต้องการ\n",
    "\n",
    "เราต้องวิเคราะห์แหล่งข้อมูลทั้งหมดที่มีอยู่ ปริมาณข้อมูล รูปแบบของข้อมูล และความถี่ในการอัพเดท เพื่อออกแบบระบบที่รองรับได้อย่างเหมาะสม"
   ]
  },
  {
   "cell_type": "code",
   "execution_count": 2,
   "id": "7463ac32",
   "metadata": {},
   "outputs": [
    {
     "name": "stdout",
     "output_type": "stream",
     "text": [
      "วิเคราะห์แหล่งข้อมูล:\n"
     ]
    },
    {
     "data": {
      "application/vnd.microsoft.datawrangler.viewer.v0+json": {
       "columns": [
        {
         "name": "index",
         "rawType": "int64",
         "type": "integer"
        },
        {
         "name": "แหล่งข้อมูล",
         "rawType": "object",
         "type": "string"
        },
        {
         "name": "จำนวนไฟล์/รายการ",
         "rawType": "int64",
         "type": "integer"
        },
        {
         "name": "ความถี่ในการอัพเดท (ครั้ง/สัปดาห์)",
         "rawType": "int64",
         "type": "integer"
        },
        {
         "name": "ขนาดโดยเฉลี่ย (KB)",
         "rawType": "int64",
         "type": "integer"
        },
        {
         "name": "รูปแบบข้อมูล",
         "rawType": "object",
         "type": "string"
        },
        {
         "name": "ขนาดรวม (MB)",
         "rawType": "float64",
         "type": "float"
        },
        {
         "name": "ความสำคัญ (1-10)",
         "rawType": "int64",
         "type": "integer"
        }
       ],
       "ref": "70360cf9-d387-461d-b714-005ad99c50f0",
       "rows": [
        [
         "0",
         "Obsidian",
         "4000",
         "30",
         "15",
         "Markdown",
         "58.59375",
         "9"
        ],
        [
         "1",
         "Notion",
         "20000",
         "25",
         "50",
         "Block-based",
         "976.5625",
         "10"
        ],
        [
         "2",
         "ClickUp",
         "1500",
         "18",
         "30",
         "Task/DB",
         "43.9453125",
         "7"
        ],
        [
         "3",
         "Airtable",
         "2500",
         "12",
         "200",
         "Structured DB",
         "488.28125",
         "8"
        ],
        [
         "4",
         "Google Docs",
         "800",
         "10",
         "300",
         "Rich Text",
         "234.375",
         "6"
        ],
        [
         "5",
         "Google Sheets",
         "300",
         "8",
         "500",
         "Spreadsheet",
         "146.484375",
         "7"
        ],
        [
         "6",
         "CSV Files",
         "3000",
         "4",
         "400",
         "CSV",
         "1171.875",
         "5"
        ]
       ],
       "shape": {
        "columns": 7,
        "rows": 7
       }
      },
      "text/html": [
       "<div>\n",
       "<style scoped>\n",
       "    .dataframe tbody tr th:only-of-type {\n",
       "        vertical-align: middle;\n",
       "    }\n",
       "\n",
       "    .dataframe tbody tr th {\n",
       "        vertical-align: top;\n",
       "    }\n",
       "\n",
       "    .dataframe thead th {\n",
       "        text-align: right;\n",
       "    }\n",
       "</style>\n",
       "<table border=\"1\" class=\"dataframe\">\n",
       "  <thead>\n",
       "    <tr style=\"text-align: right;\">\n",
       "      <th></th>\n",
       "      <th>แหล่งข้อมูล</th>\n",
       "      <th>จำนวนไฟล์/รายการ</th>\n",
       "      <th>ความถี่ในการอัพเดท (ครั้ง/สัปดาห์)</th>\n",
       "      <th>ขนาดโดยเฉลี่ย (KB)</th>\n",
       "      <th>รูปแบบข้อมูล</th>\n",
       "      <th>ขนาดรวม (MB)</th>\n",
       "      <th>ความสำคัญ (1-10)</th>\n",
       "    </tr>\n",
       "  </thead>\n",
       "  <tbody>\n",
       "    <tr>\n",
       "      <th>0</th>\n",
       "      <td>Obsidian</td>\n",
       "      <td>4000</td>\n",
       "      <td>30</td>\n",
       "      <td>15</td>\n",
       "      <td>Markdown</td>\n",
       "      <td>58.593750</td>\n",
       "      <td>9</td>\n",
       "    </tr>\n",
       "    <tr>\n",
       "      <th>1</th>\n",
       "      <td>Notion</td>\n",
       "      <td>20000</td>\n",
       "      <td>25</td>\n",
       "      <td>50</td>\n",
       "      <td>Block-based</td>\n",
       "      <td>976.562500</td>\n",
       "      <td>10</td>\n",
       "    </tr>\n",
       "    <tr>\n",
       "      <th>2</th>\n",
       "      <td>ClickUp</td>\n",
       "      <td>1500</td>\n",
       "      <td>18</td>\n",
       "      <td>30</td>\n",
       "      <td>Task/DB</td>\n",
       "      <td>43.945312</td>\n",
       "      <td>7</td>\n",
       "    </tr>\n",
       "    <tr>\n",
       "      <th>3</th>\n",
       "      <td>Airtable</td>\n",
       "      <td>2500</td>\n",
       "      <td>12</td>\n",
       "      <td>200</td>\n",
       "      <td>Structured DB</td>\n",
       "      <td>488.281250</td>\n",
       "      <td>8</td>\n",
       "    </tr>\n",
       "    <tr>\n",
       "      <th>4</th>\n",
       "      <td>Google Docs</td>\n",
       "      <td>800</td>\n",
       "      <td>10</td>\n",
       "      <td>300</td>\n",
       "      <td>Rich Text</td>\n",
       "      <td>234.375000</td>\n",
       "      <td>6</td>\n",
       "    </tr>\n",
       "    <tr>\n",
       "      <th>5</th>\n",
       "      <td>Google Sheets</td>\n",
       "      <td>300</td>\n",
       "      <td>8</td>\n",
       "      <td>500</td>\n",
       "      <td>Spreadsheet</td>\n",
       "      <td>146.484375</td>\n",
       "      <td>7</td>\n",
       "    </tr>\n",
       "    <tr>\n",
       "      <th>6</th>\n",
       "      <td>CSV Files</td>\n",
       "      <td>3000</td>\n",
       "      <td>4</td>\n",
       "      <td>400</td>\n",
       "      <td>CSV</td>\n",
       "      <td>1171.875000</td>\n",
       "      <td>5</td>\n",
       "    </tr>\n",
       "  </tbody>\n",
       "</table>\n",
       "</div>"
      ],
      "text/plain": [
       "     แหล่งข้อมูล  จำนวนไฟล์/รายการ  ความถี่ในการอัพเดท (ครั้ง/สัปดาห์)  \\\n",
       "0       Obsidian              4000                                  30   \n",
       "1         Notion             20000                                  25   \n",
       "2        ClickUp              1500                                  18   \n",
       "3       Airtable              2500                                  12   \n",
       "4    Google Docs               800                                  10   \n",
       "5  Google Sheets               300                                   8   \n",
       "6      CSV Files              3000                                   4   \n",
       "\n",
       "   ขนาดโดยเฉลี่ย (KB)   รูปแบบข้อมูล  ขนาดรวม (MB)  ความสำคัญ (1-10)  \n",
       "0                  15       Markdown     58.593750                 9  \n",
       "1                  50    Block-based    976.562500                10  \n",
       "2                  30        Task/DB     43.945312                 7  \n",
       "3                 200  Structured DB    488.281250                 8  \n",
       "4                 300      Rich Text    234.375000                 6  \n",
       "5                 500    Spreadsheet    146.484375                 7  \n",
       "6                 400            CSV   1171.875000                 5  "
      ]
     },
     "metadata": {},
     "output_type": "display_data"
    },
    {
     "data": {
      "application/vnd.plotly.v1+json": {
       "config": {
        "plotlyServerURL": "https://plot.ly"
       },
       "data": [
        {
         "hovertemplate": "แหล่งข้อมูล=%{x}<br>จำนวนไฟล์/รายการ=%{text}<br>ความถี่ในการอัพเดท (ครั้ง/สัปดาห์)=%{marker.color}<extra></extra>",
         "legendgroup": "",
         "marker": {
          "color": {
           "bdata": "HhkSDAoIBA==",
           "dtype": "i1"
          },
          "coloraxis": "coloraxis",
          "pattern": {
           "shape": ""
          }
         },
         "name": "",
         "orientation": "v",
         "showlegend": false,
         "text": {
          "bdata": "AAAAAABAr0AAAAAAAIjTQAAAAAAAcJdAAAAAAACIo0AAAAAAAACJQAAAAAAAwHJAAAAAAABwp0A=",
          "dtype": "f8"
         },
         "textposition": "auto",
         "type": "bar",
         "x": [
          "Obsidian",
          "Notion",
          "ClickUp",
          "Airtable",
          "Google Docs",
          "Google Sheets",
          "CSV Files"
         ],
         "xaxis": "x",
         "y": {
          "bdata": "oA8gTtwFxAkgAywBuAs=",
          "dtype": "i2"
         },
         "yaxis": "y"
        }
       ],
       "layout": {
        "barmode": "relative",
        "coloraxis": {
         "colorbar": {
          "title": {
           "text": "ความถี่ในการอัพเดท (ครั้ง/สัปดาห์)"
          }
         },
         "colorscale": [
          [
           0,
           "#440154"
          ],
          [
           0.1111111111111111,
           "#482878"
          ],
          [
           0.2222222222222222,
           "#3e4989"
          ],
          [
           0.3333333333333333,
           "#31688e"
          ],
          [
           0.4444444444444444,
           "#26828e"
          ],
          [
           0.5555555555555556,
           "#1f9e89"
          ],
          [
           0.6666666666666666,
           "#35b779"
          ],
          [
           0.7777777777777778,
           "#6ece58"
          ],
          [
           0.8888888888888888,
           "#b5de2b"
          ],
          [
           1,
           "#fde725"
          ]
         ]
        },
        "height": 500,
        "legend": {
         "tracegroupgap": 0
        },
        "plot_bgcolor": "white",
        "template": {
         "data": {
          "bar": [
           {
            "error_x": {
             "color": "#2a3f5f"
            },
            "error_y": {
             "color": "#2a3f5f"
            },
            "marker": {
             "line": {
              "color": "#E5ECF6",
              "width": 0.5
             },
             "pattern": {
              "fillmode": "overlay",
              "size": 10,
              "solidity": 0.2
             }
            },
            "type": "bar"
           }
          ],
          "barpolar": [
           {
            "marker": {
             "line": {
              "color": "#E5ECF6",
              "width": 0.5
             },
             "pattern": {
              "fillmode": "overlay",
              "size": 10,
              "solidity": 0.2
             }
            },
            "type": "barpolar"
           }
          ],
          "carpet": [
           {
            "aaxis": {
             "endlinecolor": "#2a3f5f",
             "gridcolor": "white",
             "linecolor": "white",
             "minorgridcolor": "white",
             "startlinecolor": "#2a3f5f"
            },
            "baxis": {
             "endlinecolor": "#2a3f5f",
             "gridcolor": "white",
             "linecolor": "white",
             "minorgridcolor": "white",
             "startlinecolor": "#2a3f5f"
            },
            "type": "carpet"
           }
          ],
          "choropleth": [
           {
            "colorbar": {
             "outlinewidth": 0,
             "ticks": ""
            },
            "type": "choropleth"
           }
          ],
          "contour": [
           {
            "colorbar": {
             "outlinewidth": 0,
             "ticks": ""
            },
            "colorscale": [
             [
              0,
              "#0d0887"
             ],
             [
              0.1111111111111111,
              "#46039f"
             ],
             [
              0.2222222222222222,
              "#7201a8"
             ],
             [
              0.3333333333333333,
              "#9c179e"
             ],
             [
              0.4444444444444444,
              "#bd3786"
             ],
             [
              0.5555555555555556,
              "#d8576b"
             ],
             [
              0.6666666666666666,
              "#ed7953"
             ],
             [
              0.7777777777777778,
              "#fb9f3a"
             ],
             [
              0.8888888888888888,
              "#fdca26"
             ],
             [
              1,
              "#f0f921"
             ]
            ],
            "type": "contour"
           }
          ],
          "contourcarpet": [
           {
            "colorbar": {
             "outlinewidth": 0,
             "ticks": ""
            },
            "type": "contourcarpet"
           }
          ],
          "heatmap": [
           {
            "colorbar": {
             "outlinewidth": 0,
             "ticks": ""
            },
            "colorscale": [
             [
              0,
              "#0d0887"
             ],
             [
              0.1111111111111111,
              "#46039f"
             ],
             [
              0.2222222222222222,
              "#7201a8"
             ],
             [
              0.3333333333333333,
              "#9c179e"
             ],
             [
              0.4444444444444444,
              "#bd3786"
             ],
             [
              0.5555555555555556,
              "#d8576b"
             ],
             [
              0.6666666666666666,
              "#ed7953"
             ],
             [
              0.7777777777777778,
              "#fb9f3a"
             ],
             [
              0.8888888888888888,
              "#fdca26"
             ],
             [
              1,
              "#f0f921"
             ]
            ],
            "type": "heatmap"
           }
          ],
          "histogram": [
           {
            "marker": {
             "pattern": {
              "fillmode": "overlay",
              "size": 10,
              "solidity": 0.2
             }
            },
            "type": "histogram"
           }
          ],
          "histogram2d": [
           {
            "colorbar": {
             "outlinewidth": 0,
             "ticks": ""
            },
            "colorscale": [
             [
              0,
              "#0d0887"
             ],
             [
              0.1111111111111111,
              "#46039f"
             ],
             [
              0.2222222222222222,
              "#7201a8"
             ],
             [
              0.3333333333333333,
              "#9c179e"
             ],
             [
              0.4444444444444444,
              "#bd3786"
             ],
             [
              0.5555555555555556,
              "#d8576b"
             ],
             [
              0.6666666666666666,
              "#ed7953"
             ],
             [
              0.7777777777777778,
              "#fb9f3a"
             ],
             [
              0.8888888888888888,
              "#fdca26"
             ],
             [
              1,
              "#f0f921"
             ]
            ],
            "type": "histogram2d"
           }
          ],
          "histogram2dcontour": [
           {
            "colorbar": {
             "outlinewidth": 0,
             "ticks": ""
            },
            "colorscale": [
             [
              0,
              "#0d0887"
             ],
             [
              0.1111111111111111,
              "#46039f"
             ],
             [
              0.2222222222222222,
              "#7201a8"
             ],
             [
              0.3333333333333333,
              "#9c179e"
             ],
             [
              0.4444444444444444,
              "#bd3786"
             ],
             [
              0.5555555555555556,
              "#d8576b"
             ],
             [
              0.6666666666666666,
              "#ed7953"
             ],
             [
              0.7777777777777778,
              "#fb9f3a"
             ],
             [
              0.8888888888888888,
              "#fdca26"
             ],
             [
              1,
              "#f0f921"
             ]
            ],
            "type": "histogram2dcontour"
           }
          ],
          "mesh3d": [
           {
            "colorbar": {
             "outlinewidth": 0,
             "ticks": ""
            },
            "type": "mesh3d"
           }
          ],
          "parcoords": [
           {
            "line": {
             "colorbar": {
              "outlinewidth": 0,
              "ticks": ""
             }
            },
            "type": "parcoords"
           }
          ],
          "pie": [
           {
            "automargin": true,
            "type": "pie"
           }
          ],
          "scatter": [
           {
            "fillpattern": {
             "fillmode": "overlay",
             "size": 10,
             "solidity": 0.2
            },
            "type": "scatter"
           }
          ],
          "scatter3d": [
           {
            "line": {
             "colorbar": {
              "outlinewidth": 0,
              "ticks": ""
             }
            },
            "marker": {
             "colorbar": {
              "outlinewidth": 0,
              "ticks": ""
             }
            },
            "type": "scatter3d"
           }
          ],
          "scattercarpet": [
           {
            "marker": {
             "colorbar": {
              "outlinewidth": 0,
              "ticks": ""
             }
            },
            "type": "scattercarpet"
           }
          ],
          "scattergeo": [
           {
            "marker": {
             "colorbar": {
              "outlinewidth": 0,
              "ticks": ""
             }
            },
            "type": "scattergeo"
           }
          ],
          "scattergl": [
           {
            "marker": {
             "colorbar": {
              "outlinewidth": 0,
              "ticks": ""
             }
            },
            "type": "scattergl"
           }
          ],
          "scattermap": [
           {
            "marker": {
             "colorbar": {
              "outlinewidth": 0,
              "ticks": ""
             }
            },
            "type": "scattermap"
           }
          ],
          "scattermapbox": [
           {
            "marker": {
             "colorbar": {
              "outlinewidth": 0,
              "ticks": ""
             }
            },
            "type": "scattermapbox"
           }
          ],
          "scatterpolar": [
           {
            "marker": {
             "colorbar": {
              "outlinewidth": 0,
              "ticks": ""
             }
            },
            "type": "scatterpolar"
           }
          ],
          "scatterpolargl": [
           {
            "marker": {
             "colorbar": {
              "outlinewidth": 0,
              "ticks": ""
             }
            },
            "type": "scatterpolargl"
           }
          ],
          "scatterternary": [
           {
            "marker": {
             "colorbar": {
              "outlinewidth": 0,
              "ticks": ""
             }
            },
            "type": "scatterternary"
           }
          ],
          "surface": [
           {
            "colorbar": {
             "outlinewidth": 0,
             "ticks": ""
            },
            "colorscale": [
             [
              0,
              "#0d0887"
             ],
             [
              0.1111111111111111,
              "#46039f"
             ],
             [
              0.2222222222222222,
              "#7201a8"
             ],
             [
              0.3333333333333333,
              "#9c179e"
             ],
             [
              0.4444444444444444,
              "#bd3786"
             ],
             [
              0.5555555555555556,
              "#d8576b"
             ],
             [
              0.6666666666666666,
              "#ed7953"
             ],
             [
              0.7777777777777778,
              "#fb9f3a"
             ],
             [
              0.8888888888888888,
              "#fdca26"
             ],
             [
              1,
              "#f0f921"
             ]
            ],
            "type": "surface"
           }
          ],
          "table": [
           {
            "cells": {
             "fill": {
              "color": "#EBF0F8"
             },
             "line": {
              "color": "white"
             }
            },
            "header": {
             "fill": {
              "color": "#C8D4E3"
             },
             "line": {
              "color": "white"
             }
            },
            "type": "table"
           }
          ]
         },
         "layout": {
          "annotationdefaults": {
           "arrowcolor": "#2a3f5f",
           "arrowhead": 0,
           "arrowwidth": 1
          },
          "autotypenumbers": "strict",
          "coloraxis": {
           "colorbar": {
            "outlinewidth": 0,
            "ticks": ""
           }
          },
          "colorscale": {
           "diverging": [
            [
             0,
             "#8e0152"
            ],
            [
             0.1,
             "#c51b7d"
            ],
            [
             0.2,
             "#de77ae"
            ],
            [
             0.3,
             "#f1b6da"
            ],
            [
             0.4,
             "#fde0ef"
            ],
            [
             0.5,
             "#f7f7f7"
            ],
            [
             0.6,
             "#e6f5d0"
            ],
            [
             0.7,
             "#b8e186"
            ],
            [
             0.8,
             "#7fbc41"
            ],
            [
             0.9,
             "#4d9221"
            ],
            [
             1,
             "#276419"
            ]
           ],
           "sequential": [
            [
             0,
             "#0d0887"
            ],
            [
             0.1111111111111111,
             "#46039f"
            ],
            [
             0.2222222222222222,
             "#7201a8"
            ],
            [
             0.3333333333333333,
             "#9c179e"
            ],
            [
             0.4444444444444444,
             "#bd3786"
            ],
            [
             0.5555555555555556,
             "#d8576b"
            ],
            [
             0.6666666666666666,
             "#ed7953"
            ],
            [
             0.7777777777777778,
             "#fb9f3a"
            ],
            [
             0.8888888888888888,
             "#fdca26"
            ],
            [
             1,
             "#f0f921"
            ]
           ],
           "sequentialminus": [
            [
             0,
             "#0d0887"
            ],
            [
             0.1111111111111111,
             "#46039f"
            ],
            [
             0.2222222222222222,
             "#7201a8"
            ],
            [
             0.3333333333333333,
             "#9c179e"
            ],
            [
             0.4444444444444444,
             "#bd3786"
            ],
            [
             0.5555555555555556,
             "#d8576b"
            ],
            [
             0.6666666666666666,
             "#ed7953"
            ],
            [
             0.7777777777777778,
             "#fb9f3a"
            ],
            [
             0.8888888888888888,
             "#fdca26"
            ],
            [
             1,
             "#f0f921"
            ]
           ]
          },
          "colorway": [
           "#636efa",
           "#EF553B",
           "#00cc96",
           "#ab63fa",
           "#FFA15A",
           "#19d3f3",
           "#FF6692",
           "#B6E880",
           "#FF97FF",
           "#FECB52"
          ],
          "font": {
           "color": "#2a3f5f"
          },
          "geo": {
           "bgcolor": "white",
           "lakecolor": "white",
           "landcolor": "#E5ECF6",
           "showlakes": true,
           "showland": true,
           "subunitcolor": "white"
          },
          "hoverlabel": {
           "align": "left"
          },
          "hovermode": "closest",
          "mapbox": {
           "style": "light"
          },
          "paper_bgcolor": "white",
          "plot_bgcolor": "#E5ECF6",
          "polar": {
           "angularaxis": {
            "gridcolor": "white",
            "linecolor": "white",
            "ticks": ""
           },
           "bgcolor": "#E5ECF6",
           "radialaxis": {
            "gridcolor": "white",
            "linecolor": "white",
            "ticks": ""
           }
          },
          "scene": {
           "xaxis": {
            "backgroundcolor": "#E5ECF6",
            "gridcolor": "white",
            "gridwidth": 2,
            "linecolor": "white",
            "showbackground": true,
            "ticks": "",
            "zerolinecolor": "white"
           },
           "yaxis": {
            "backgroundcolor": "#E5ECF6",
            "gridcolor": "white",
            "gridwidth": 2,
            "linecolor": "white",
            "showbackground": true,
            "ticks": "",
            "zerolinecolor": "white"
           },
           "zaxis": {
            "backgroundcolor": "#E5ECF6",
            "gridcolor": "white",
            "gridwidth": 2,
            "linecolor": "white",
            "showbackground": true,
            "ticks": "",
            "zerolinecolor": "white"
           }
          },
          "shapedefaults": {
           "line": {
            "color": "#2a3f5f"
           }
          },
          "ternary": {
           "aaxis": {
            "gridcolor": "white",
            "linecolor": "white",
            "ticks": ""
           },
           "baxis": {
            "gridcolor": "white",
            "linecolor": "white",
            "ticks": ""
           },
           "bgcolor": "#E5ECF6",
           "caxis": {
            "gridcolor": "white",
            "linecolor": "white",
            "ticks": ""
           }
          },
          "title": {
           "x": 0.05
          },
          "xaxis": {
           "automargin": true,
           "gridcolor": "white",
           "linecolor": "white",
           "ticks": "",
           "title": {
            "standoff": 15
           },
           "zerolinecolor": "white",
           "zerolinewidth": 2
          },
          "yaxis": {
           "automargin": true,
           "gridcolor": "white",
           "linecolor": "white",
           "ticks": "",
           "title": {
            "standoff": 15
           },
           "zerolinecolor": "white",
           "zerolinewidth": 2
          }
         }
        },
        "title": {
         "text": "ปริมาณข้อมูลในแต่ละแหล่ง"
        },
        "xaxis": {
         "anchor": "y",
         "domain": [
          0,
          1
         ],
         "title": {
          "text": "แหล่งข้อมูล"
         }
        },
        "yaxis": {
         "anchor": "x",
         "domain": [
          0,
          1
         ],
         "title": {
          "text": "จำนวนไฟล์/รายการ"
         }
        }
       }
      }
     },
     "metadata": {},
     "output_type": "display_data"
    },
    {
     "data": {
      "application/vnd.plotly.v1+json": {
       "config": {
        "plotlyServerURL": "https://plot.ly"
       },
       "data": [
        {
         "hovertemplate": "<b>%{hovertext}</b><br><br>ขนาดรวม (MB)=%{x}<br>ความถี่ในการอัพเดท (ครั้ง/สัปดาห์)=%{y}<br>จำนวนไฟล์/รายการ=%{marker.size}<br>แหล่งข้อมูล=%{text}<br>ความสำคัญ=%{marker.color}<extra></extra>",
         "hovertext": [
          "Obsidian",
          "Notion",
          "ClickUp",
          "Airtable",
          "Google Docs",
          "Google Sheets",
          "CSV Files"
         ],
         "legendgroup": "",
         "marker": {
          "color": {
           "bdata": "CQoHCAYHBQ==",
           "dtype": "i1"
          },
          "coloraxis": "coloraxis",
          "size": {
           "bdata": "oA8gTtwFxAkgAywBuAs=",
           "dtype": "i2"
          },
          "sizemode": "area",
          "sizeref": 50,
          "symbol": "circle"
         },
         "mode": "markers+text",
         "name": "",
         "orientation": "v",
         "showlegend": false,
         "text": [
          "Obsidian",
          "Notion",
          "ClickUp",
          "Airtable",
          "Google Docs",
          "Google Sheets",
          "CSV Files"
         ],
         "textposition": "top center",
         "type": "scatter",
         "x": {
          "bdata": "AAAAAABMTUAAAAAAgISOQAAAAAAA+UVAAAAAAICEfkAAAAAAAExtQAAAAACAT2JAAAAAAIBPkkA=",
          "dtype": "f8"
         },
         "xaxis": "x",
         "y": {
          "bdata": "HhkSDAoIBA==",
          "dtype": "i1"
         },
         "yaxis": "y"
        }
       ],
       "layout": {
        "coloraxis": {
         "colorbar": {
          "title": {
           "text": "ความสำคัญ"
          }
         },
         "colorscale": [
          [
           0,
           "#440154"
          ],
          [
           0.1111111111111111,
           "#482878"
          ],
          [
           0.2222222222222222,
           "#3e4989"
          ],
          [
           0.3333333333333333,
           "#31688e"
          ],
          [
           0.4444444444444444,
           "#26828e"
          ],
          [
           0.5555555555555556,
           "#1f9e89"
          ],
          [
           0.6666666666666666,
           "#35b779"
          ],
          [
           0.7777777777777778,
           "#6ece58"
          ],
          [
           0.8888888888888888,
           "#b5de2b"
          ],
          [
           1,
           "#fde725"
          ]
         ]
        },
        "height": 600,
        "legend": {
         "itemsizing": "constant",
         "tracegroupgap": 0
        },
        "plot_bgcolor": "white",
        "template": {
         "data": {
          "bar": [
           {
            "error_x": {
             "color": "#2a3f5f"
            },
            "error_y": {
             "color": "#2a3f5f"
            },
            "marker": {
             "line": {
              "color": "#E5ECF6",
              "width": 0.5
             },
             "pattern": {
              "fillmode": "overlay",
              "size": 10,
              "solidity": 0.2
             }
            },
            "type": "bar"
           }
          ],
          "barpolar": [
           {
            "marker": {
             "line": {
              "color": "#E5ECF6",
              "width": 0.5
             },
             "pattern": {
              "fillmode": "overlay",
              "size": 10,
              "solidity": 0.2
             }
            },
            "type": "barpolar"
           }
          ],
          "carpet": [
           {
            "aaxis": {
             "endlinecolor": "#2a3f5f",
             "gridcolor": "white",
             "linecolor": "white",
             "minorgridcolor": "white",
             "startlinecolor": "#2a3f5f"
            },
            "baxis": {
             "endlinecolor": "#2a3f5f",
             "gridcolor": "white",
             "linecolor": "white",
             "minorgridcolor": "white",
             "startlinecolor": "#2a3f5f"
            },
            "type": "carpet"
           }
          ],
          "choropleth": [
           {
            "colorbar": {
             "outlinewidth": 0,
             "ticks": ""
            },
            "type": "choropleth"
           }
          ],
          "contour": [
           {
            "colorbar": {
             "outlinewidth": 0,
             "ticks": ""
            },
            "colorscale": [
             [
              0,
              "#0d0887"
             ],
             [
              0.1111111111111111,
              "#46039f"
             ],
             [
              0.2222222222222222,
              "#7201a8"
             ],
             [
              0.3333333333333333,
              "#9c179e"
             ],
             [
              0.4444444444444444,
              "#bd3786"
             ],
             [
              0.5555555555555556,
              "#d8576b"
             ],
             [
              0.6666666666666666,
              "#ed7953"
             ],
             [
              0.7777777777777778,
              "#fb9f3a"
             ],
             [
              0.8888888888888888,
              "#fdca26"
             ],
             [
              1,
              "#f0f921"
             ]
            ],
            "type": "contour"
           }
          ],
          "contourcarpet": [
           {
            "colorbar": {
             "outlinewidth": 0,
             "ticks": ""
            },
            "type": "contourcarpet"
           }
          ],
          "heatmap": [
           {
            "colorbar": {
             "outlinewidth": 0,
             "ticks": ""
            },
            "colorscale": [
             [
              0,
              "#0d0887"
             ],
             [
              0.1111111111111111,
              "#46039f"
             ],
             [
              0.2222222222222222,
              "#7201a8"
             ],
             [
              0.3333333333333333,
              "#9c179e"
             ],
             [
              0.4444444444444444,
              "#bd3786"
             ],
             [
              0.5555555555555556,
              "#d8576b"
             ],
             [
              0.6666666666666666,
              "#ed7953"
             ],
             [
              0.7777777777777778,
              "#fb9f3a"
             ],
             [
              0.8888888888888888,
              "#fdca26"
             ],
             [
              1,
              "#f0f921"
             ]
            ],
            "type": "heatmap"
           }
          ],
          "histogram": [
           {
            "marker": {
             "pattern": {
              "fillmode": "overlay",
              "size": 10,
              "solidity": 0.2
             }
            },
            "type": "histogram"
           }
          ],
          "histogram2d": [
           {
            "colorbar": {
             "outlinewidth": 0,
             "ticks": ""
            },
            "colorscale": [
             [
              0,
              "#0d0887"
             ],
             [
              0.1111111111111111,
              "#46039f"
             ],
             [
              0.2222222222222222,
              "#7201a8"
             ],
             [
              0.3333333333333333,
              "#9c179e"
             ],
             [
              0.4444444444444444,
              "#bd3786"
             ],
             [
              0.5555555555555556,
              "#d8576b"
             ],
             [
              0.6666666666666666,
              "#ed7953"
             ],
             [
              0.7777777777777778,
              "#fb9f3a"
             ],
             [
              0.8888888888888888,
              "#fdca26"
             ],
             [
              1,
              "#f0f921"
             ]
            ],
            "type": "histogram2d"
           }
          ],
          "histogram2dcontour": [
           {
            "colorbar": {
             "outlinewidth": 0,
             "ticks": ""
            },
            "colorscale": [
             [
              0,
              "#0d0887"
             ],
             [
              0.1111111111111111,
              "#46039f"
             ],
             [
              0.2222222222222222,
              "#7201a8"
             ],
             [
              0.3333333333333333,
              "#9c179e"
             ],
             [
              0.4444444444444444,
              "#bd3786"
             ],
             [
              0.5555555555555556,
              "#d8576b"
             ],
             [
              0.6666666666666666,
              "#ed7953"
             ],
             [
              0.7777777777777778,
              "#fb9f3a"
             ],
             [
              0.8888888888888888,
              "#fdca26"
             ],
             [
              1,
              "#f0f921"
             ]
            ],
            "type": "histogram2dcontour"
           }
          ],
          "mesh3d": [
           {
            "colorbar": {
             "outlinewidth": 0,
             "ticks": ""
            },
            "type": "mesh3d"
           }
          ],
          "parcoords": [
           {
            "line": {
             "colorbar": {
              "outlinewidth": 0,
              "ticks": ""
             }
            },
            "type": "parcoords"
           }
          ],
          "pie": [
           {
            "automargin": true,
            "type": "pie"
           }
          ],
          "scatter": [
           {
            "fillpattern": {
             "fillmode": "overlay",
             "size": 10,
             "solidity": 0.2
            },
            "type": "scatter"
           }
          ],
          "scatter3d": [
           {
            "line": {
             "colorbar": {
              "outlinewidth": 0,
              "ticks": ""
             }
            },
            "marker": {
             "colorbar": {
              "outlinewidth": 0,
              "ticks": ""
             }
            },
            "type": "scatter3d"
           }
          ],
          "scattercarpet": [
           {
            "marker": {
             "colorbar": {
              "outlinewidth": 0,
              "ticks": ""
             }
            },
            "type": "scattercarpet"
           }
          ],
          "scattergeo": [
           {
            "marker": {
             "colorbar": {
              "outlinewidth": 0,
              "ticks": ""
             }
            },
            "type": "scattergeo"
           }
          ],
          "scattergl": [
           {
            "marker": {
             "colorbar": {
              "outlinewidth": 0,
              "ticks": ""
             }
            },
            "type": "scattergl"
           }
          ],
          "scattermap": [
           {
            "marker": {
             "colorbar": {
              "outlinewidth": 0,
              "ticks": ""
             }
            },
            "type": "scattermap"
           }
          ],
          "scattermapbox": [
           {
            "marker": {
             "colorbar": {
              "outlinewidth": 0,
              "ticks": ""
             }
            },
            "type": "scattermapbox"
           }
          ],
          "scatterpolar": [
           {
            "marker": {
             "colorbar": {
              "outlinewidth": 0,
              "ticks": ""
             }
            },
            "type": "scatterpolar"
           }
          ],
          "scatterpolargl": [
           {
            "marker": {
             "colorbar": {
              "outlinewidth": 0,
              "ticks": ""
             }
            },
            "type": "scatterpolargl"
           }
          ],
          "scatterternary": [
           {
            "marker": {
             "colorbar": {
              "outlinewidth": 0,
              "ticks": ""
             }
            },
            "type": "scatterternary"
           }
          ],
          "surface": [
           {
            "colorbar": {
             "outlinewidth": 0,
             "ticks": ""
            },
            "colorscale": [
             [
              0,
              "#0d0887"
             ],
             [
              0.1111111111111111,
              "#46039f"
             ],
             [
              0.2222222222222222,
              "#7201a8"
             ],
             [
              0.3333333333333333,
              "#9c179e"
             ],
             [
              0.4444444444444444,
              "#bd3786"
             ],
             [
              0.5555555555555556,
              "#d8576b"
             ],
             [
              0.6666666666666666,
              "#ed7953"
             ],
             [
              0.7777777777777778,
              "#fb9f3a"
             ],
             [
              0.8888888888888888,
              "#fdca26"
             ],
             [
              1,
              "#f0f921"
             ]
            ],
            "type": "surface"
           }
          ],
          "table": [
           {
            "cells": {
             "fill": {
              "color": "#EBF0F8"
             },
             "line": {
              "color": "white"
             }
            },
            "header": {
             "fill": {
              "color": "#C8D4E3"
             },
             "line": {
              "color": "white"
             }
            },
            "type": "table"
           }
          ]
         },
         "layout": {
          "annotationdefaults": {
           "arrowcolor": "#2a3f5f",
           "arrowhead": 0,
           "arrowwidth": 1
          },
          "autotypenumbers": "strict",
          "coloraxis": {
           "colorbar": {
            "outlinewidth": 0,
            "ticks": ""
           }
          },
          "colorscale": {
           "diverging": [
            [
             0,
             "#8e0152"
            ],
            [
             0.1,
             "#c51b7d"
            ],
            [
             0.2,
             "#de77ae"
            ],
            [
             0.3,
             "#f1b6da"
            ],
            [
             0.4,
             "#fde0ef"
            ],
            [
             0.5,
             "#f7f7f7"
            ],
            [
             0.6,
             "#e6f5d0"
            ],
            [
             0.7,
             "#b8e186"
            ],
            [
             0.8,
             "#7fbc41"
            ],
            [
             0.9,
             "#4d9221"
            ],
            [
             1,
             "#276419"
            ]
           ],
           "sequential": [
            [
             0,
             "#0d0887"
            ],
            [
             0.1111111111111111,
             "#46039f"
            ],
            [
             0.2222222222222222,
             "#7201a8"
            ],
            [
             0.3333333333333333,
             "#9c179e"
            ],
            [
             0.4444444444444444,
             "#bd3786"
            ],
            [
             0.5555555555555556,
             "#d8576b"
            ],
            [
             0.6666666666666666,
             "#ed7953"
            ],
            [
             0.7777777777777778,
             "#fb9f3a"
            ],
            [
             0.8888888888888888,
             "#fdca26"
            ],
            [
             1,
             "#f0f921"
            ]
           ],
           "sequentialminus": [
            [
             0,
             "#0d0887"
            ],
            [
             0.1111111111111111,
             "#46039f"
            ],
            [
             0.2222222222222222,
             "#7201a8"
            ],
            [
             0.3333333333333333,
             "#9c179e"
            ],
            [
             0.4444444444444444,
             "#bd3786"
            ],
            [
             0.5555555555555556,
             "#d8576b"
            ],
            [
             0.6666666666666666,
             "#ed7953"
            ],
            [
             0.7777777777777778,
             "#fb9f3a"
            ],
            [
             0.8888888888888888,
             "#fdca26"
            ],
            [
             1,
             "#f0f921"
            ]
           ]
          },
          "colorway": [
           "#636efa",
           "#EF553B",
           "#00cc96",
           "#ab63fa",
           "#FFA15A",
           "#19d3f3",
           "#FF6692",
           "#B6E880",
           "#FF97FF",
           "#FECB52"
          ],
          "font": {
           "color": "#2a3f5f"
          },
          "geo": {
           "bgcolor": "white",
           "lakecolor": "white",
           "landcolor": "#E5ECF6",
           "showlakes": true,
           "showland": true,
           "subunitcolor": "white"
          },
          "hoverlabel": {
           "align": "left"
          },
          "hovermode": "closest",
          "mapbox": {
           "style": "light"
          },
          "paper_bgcolor": "white",
          "plot_bgcolor": "#E5ECF6",
          "polar": {
           "angularaxis": {
            "gridcolor": "white",
            "linecolor": "white",
            "ticks": ""
           },
           "bgcolor": "#E5ECF6",
           "radialaxis": {
            "gridcolor": "white",
            "linecolor": "white",
            "ticks": ""
           }
          },
          "scene": {
           "xaxis": {
            "backgroundcolor": "#E5ECF6",
            "gridcolor": "white",
            "gridwidth": 2,
            "linecolor": "white",
            "showbackground": true,
            "ticks": "",
            "zerolinecolor": "white"
           },
           "yaxis": {
            "backgroundcolor": "#E5ECF6",
            "gridcolor": "white",
            "gridwidth": 2,
            "linecolor": "white",
            "showbackground": true,
            "ticks": "",
            "zerolinecolor": "white"
           },
           "zaxis": {
            "backgroundcolor": "#E5ECF6",
            "gridcolor": "white",
            "gridwidth": 2,
            "linecolor": "white",
            "showbackground": true,
            "ticks": "",
            "zerolinecolor": "white"
           }
          },
          "shapedefaults": {
           "line": {
            "color": "#2a3f5f"
           }
          },
          "ternary": {
           "aaxis": {
            "gridcolor": "white",
            "linecolor": "white",
            "ticks": ""
           },
           "baxis": {
            "gridcolor": "white",
            "linecolor": "white",
            "ticks": ""
           },
           "bgcolor": "#E5ECF6",
           "caxis": {
            "gridcolor": "white",
            "linecolor": "white",
            "ticks": ""
           }
          },
          "title": {
           "x": 0.05
          },
          "xaxis": {
           "automargin": true,
           "gridcolor": "white",
           "linecolor": "white",
           "ticks": "",
           "title": {
            "standoff": 15
           },
           "zerolinecolor": "white",
           "zerolinewidth": 2
          },
          "yaxis": {
           "automargin": true,
           "gridcolor": "white",
           "linecolor": "white",
           "ticks": "",
           "title": {
            "standoff": 15
           },
           "zerolinecolor": "white",
           "zerolinewidth": 2
          }
         }
        },
        "title": {
         "text": "ความสัมพันธ์ระหว่างขนาดข้อมูล ความถี่อัพเดท และความสำคัญ"
        },
        "xaxis": {
         "anchor": "y",
         "domain": [
          0,
          1
         ],
         "title": {
          "text": "ขนาดรวม (MB)"
         }
        },
        "yaxis": {
         "anchor": "x",
         "domain": [
          0,
          1
         ],
         "title": {
          "text": "ความถี่ในการอัพเดท (ครั้ง/สัปดาห์)"
         }
        }
       }
      }
     },
     "metadata": {},
     "output_type": "display_data"
    }
   ],
   "source": [
    "# สร้างข้อมูลจำลองเกี่ยวกับแหล่งข้อมูลต่างๆ\n",
    "data_sources = pd.DataFrame({\n",
    "    'แหล่งข้อมูล': ['Obsidian', 'Notion', 'ClickUp', 'Airtable', 'Google Docs', 'Google Sheets', 'CSV Files'],\n",
    "    'จำนวนไฟล์/รายการ': [4000, 20000, 1500, 2500, 800, 300, 3000],\n",
    "    'ความถี่ในการอัพเดท (ครั้ง/สัปดาห์)': [30, 25, 18, 12, 10, 8, 4],\n",
    "    'ขนาดโดยเฉลี่ย (KB)': [15, 50, 30, 200, 300, 500, 400],\n",
    "    'รูปแบบข้อมูล': ['Markdown', 'Block-based', 'Task/DB', 'Structured DB', 'Rich Text', 'Spreadsheet', 'CSV']\n",
    "})\n",
    "\n",
    "# คำนวณขนาดรวม (MB)\n",
    "data_sources['ขนาดรวม (MB)'] = data_sources['จำนวนไฟล์/รายการ'] * data_sources['ขนาดโดยเฉลี่ย (KB)'] / 1024\n",
    "data_sources['ความสำคัญ (1-10)'] = [9, 10, 7, 8, 6, 7, 5]\n",
    "\n",
    "# แสดงข้อมูล\n",
    "print(\"วิเคราะห์แหล่งข้อมูล:\")\n",
    "display(data_sources)\n",
    "\n",
    "# สร้างกราฟแสดงปริมาณข้อมูลแต่ละแหล่ง\n",
    "fig = px.bar(data_sources, x='แหล่งข้อมูล', y='จำนวนไฟล์/รายการ', \n",
    "             color='ความถี่ในการอัพเดท (ครั้ง/สัปดาห์)', \n",
    "             text='จำนวนไฟล์/รายการ',\n",
    "             title='ปริมาณข้อมูลในแต่ละแหล่ง',\n",
    "             labels={'แหล่งข้อมูล': 'แหล่งข้อมูล', 'จำนวนไฟล์/รายการ': 'จำนวนไฟล์/รายการ'},\n",
    "             height=500, \n",
    "             color_continuous_scale='Viridis')\n",
    "\n",
    "fig.update_layout(\n",
    "    plot_bgcolor='white',\n",
    "    xaxis_title='แหล่งข้อมูล',\n",
    "    yaxis_title='จำนวนไฟล์/รายการ'\n",
    ")\n",
    "\n",
    "fig.show()\n",
    "\n",
    "# สร้างกราฟแสดงความสัมพันธ์ระหว่างขนาดข้อมูลและความถี่ในการอัพเดท\n",
    "fig = px.scatter(data_sources, x='ขนาดรวม (MB)', y='ความถี่ในการอัพเดท (ครั้ง/สัปดาห์)',\n",
    "                 size='จำนวนไฟล์/รายการ', color='ความสำคัญ (1-10)',\n",
    "                 hover_name='แหล่งข้อมูล', text='แหล่งข้อมูล',\n",
    "                 title='ความสัมพันธ์ระหว่างขนาดข้อมูล ความถี่อัพเดท และความสำคัญ',\n",
    "                 labels={'ขนาดรวม (MB)': 'ขนาดรวม (MB)', \n",
    "                         'ความถี่ในการอัพเดท (ครั้ง/สัปดาห์)': 'ความถี่ในการอัพเดท (ครั้ง/สัปดาห์)',\n",
    "                         'ความสำคัญ (1-10)': 'ความสำคัญ'},\n",
    "                 height=600,\n",
    "                 color_continuous_scale='Viridis')\n",
    "\n",
    "fig.update_traces(textposition='top center')\n",
    "fig.update_layout(\n",
    "    plot_bgcolor='white',\n",
    "    xaxis_title='ขนาดรวม (MB)',\n",
    "    yaxis_title='ความถี่ในการอัพเดท (ครั้ง/สัปดาห์)'\n",
    ")\n",
    "\n",
    "fig.show()"
   ]
  },
  {
   "cell_type": "markdown",
   "id": "d3f0e53c",
   "metadata": {},
   "source": [
    "### สรุปการวิเคราะห์แหล่งข้อมูล\n",
    "\n",
    "1. **Notion** และ **Obsidian** เป็นแหล่งข้อมูลหลักที่มีจำนวนไฟล์มากที่สุด และมีการอัพเดทบ่อยที่สุด\n",
    "2. **CSV Files** มีขนาดข้อมูลรวมใหญ่มาก แต่มีการอัพเดทไม่บ่อยนัก\n",
    "3. **ClickUp** และ **Airtable** มีความสำคัญสูง แม้จะมีจำนวนรายการน้อยกว่า Notion และ Obsidian\n",
    "4. แหล่งข้อมูลทั้งหมดมีรูปแบบที่แตกต่างกัน ตั้งแต่ Markdown ไปจนถึงฐานข้อมูลโครงสร้าง\n",
    "\n",
    "จากการวิเคราะห์นี้ เราจำเป็นต้องออกแบบระบบที่สามารถรองรับข้อมูลหลากหลายรูปแบบ จัดการข้อมูลปริมาณมากได้อย่างมีประสิทธิภาพ และอัพเดทข้อมูลได้อย่างรวดเร็วตามความถี่การใช้งาน"
   ]
  },
  {
   "cell_type": "markdown",
   "id": "4871f12b",
   "metadata": {},
   "source": [
    "## 3. กำหนดความต้องการของระบบ NoteWeave\n",
    "\n",
    "จากการวิเคราะห์ข้างต้น เราสามารถกำหนดความต้องการของระบบ NoteWeave ได้ดังนี้"
   ]
  },
  {
   "cell_type": "code",
   "execution_count": 3,
   "id": "d0764327",
   "metadata": {},
   "outputs": [
    {
     "name": "stdout",
     "output_type": "stream",
     "text": [
      "ความต้องการของระบบ NoteWeave เรียงตามลำดับความสำคัญ:\n"
     ]
    },
    {
     "data": {
      "application/vnd.microsoft.datawrangler.viewer.v0+json": {
       "columns": [
        {
         "name": "index",
         "rawType": "int64",
         "type": "integer"
        },
        {
         "name": "ความต้องการ",
         "rawType": "object",
         "type": "string"
        },
        {
         "name": "ความสำคัญ (1-10)",
         "rawType": "int64",
         "type": "integer"
        },
        {
         "name": "ความยากในการพัฒนา (1-10)",
         "rawType": "int64",
         "type": "integer"
        },
        {
         "name": "ความเร่งด่วน (1-10)",
         "rawType": "int64",
         "type": "integer"
        },
        {
         "name": "คะแนนรวม",
         "rawType": "float64",
         "type": "float"
        }
       ],
       "ref": "f4214bbd-62f4-4018-8bf1-30388ccf24cc",
       "rows": [
        [
         "0",
         "การซิงค์ข้อมูลอัตโนมัติระหว่างอุปกรณ์",
         "10",
         "7",
         "10",
         "8.6"
        ],
        [
         "1",
         "ความง่ายในการตั้งค่าและใช้งาน (ลดความซับซ้อน)",
         "10",
         "7",
         "9",
         "8.299999999999999"
        ],
        [
         "2",
         "การตั้งค่าครั้งเดียว ใช้งานได้ตลอด",
         "10",
         "8",
         "9",
         "8.1"
        ],
        [
         "3",
         "การแก้ไขได้ทั้งบนคอมพิวเตอร์และมือถือ",
         "9",
         "7",
         "9",
         "7.799999999999999"
        ],
        [
         "4",
         "การเชื่อมต่อข้อมูลจากหลายแหล่ง (Obsidian, Notion, ClickUp, Airtable)",
         "9",
         "8",
         "8",
         "7.300000000000001"
        ],
        [
         "5",
         "ความเป็นส่วนตัวของข้อมูล (ไม่ส่งข้อมูลออกนอกระบบโดยไม่จำเป็น)",
         "8",
         "6",
         "7",
         "6.8999999999999995"
        ],
        [
         "6",
         "ระบบ RAG (Retrieval-Augmented Generation) เพื่อสืบค้นข้อมูล",
         "8",
         "9",
         "7",
         "6.3"
        ],
        [
         "7",
         "การใช้งาน AI แบบ Local และ Cloud ได้",
         "8",
         "9",
         "7",
         "6.3"
        ],
        [
         "8",
         "ประสิทธิภาพในการจัดการข้อมูลขนาดใหญ่",
         "7",
         "8",
         "6",
         "5.7"
        ],
        [
         "9",
         "การบูรณาการกับเครื่องมืออื่นๆ ผ่าน API",
         "6",
         "7",
         "5",
         "5.1"
        ]
       ],
       "shape": {
        "columns": 5,
        "rows": 10
       }
      },
      "text/html": [
       "<div>\n",
       "<style scoped>\n",
       "    .dataframe tbody tr th:only-of-type {\n",
       "        vertical-align: middle;\n",
       "    }\n",
       "\n",
       "    .dataframe tbody tr th {\n",
       "        vertical-align: top;\n",
       "    }\n",
       "\n",
       "    .dataframe thead th {\n",
       "        text-align: right;\n",
       "    }\n",
       "</style>\n",
       "<table border=\"1\" class=\"dataframe\">\n",
       "  <thead>\n",
       "    <tr style=\"text-align: right;\">\n",
       "      <th></th>\n",
       "      <th>ความต้องการ</th>\n",
       "      <th>ความสำคัญ (1-10)</th>\n",
       "      <th>ความยากในการพัฒนา (1-10)</th>\n",
       "      <th>ความเร่งด่วน (1-10)</th>\n",
       "      <th>คะแนนรวม</th>\n",
       "    </tr>\n",
       "  </thead>\n",
       "  <tbody>\n",
       "    <tr>\n",
       "      <th>0</th>\n",
       "      <td>การซิงค์ข้อมูลอัตโนมัติระหว่างอุปกรณ์</td>\n",
       "      <td>10</td>\n",
       "      <td>7</td>\n",
       "      <td>10</td>\n",
       "      <td>8.6</td>\n",
       "    </tr>\n",
       "    <tr>\n",
       "      <th>1</th>\n",
       "      <td>ความง่ายในการตั้งค่าและใช้งาน (ลดความซับซ้อน)</td>\n",
       "      <td>10</td>\n",
       "      <td>7</td>\n",
       "      <td>9</td>\n",
       "      <td>8.3</td>\n",
       "    </tr>\n",
       "    <tr>\n",
       "      <th>2</th>\n",
       "      <td>การตั้งค่าครั้งเดียว ใช้งานได้ตลอด</td>\n",
       "      <td>10</td>\n",
       "      <td>8</td>\n",
       "      <td>9</td>\n",
       "      <td>8.1</td>\n",
       "    </tr>\n",
       "    <tr>\n",
       "      <th>3</th>\n",
       "      <td>การแก้ไขได้ทั้งบนคอมพิวเตอร์และมือถือ</td>\n",
       "      <td>9</td>\n",
       "      <td>7</td>\n",
       "      <td>9</td>\n",
       "      <td>7.8</td>\n",
       "    </tr>\n",
       "    <tr>\n",
       "      <th>4</th>\n",
       "      <td>การเชื่อมต่อข้อมูลจากหลายแหล่ง (Obsidian, Noti...</td>\n",
       "      <td>9</td>\n",
       "      <td>8</td>\n",
       "      <td>8</td>\n",
       "      <td>7.3</td>\n",
       "    </tr>\n",
       "    <tr>\n",
       "      <th>5</th>\n",
       "      <td>ความเป็นส่วนตัวของข้อมูล (ไม่ส่งข้อมูลออกนอกระ...</td>\n",
       "      <td>8</td>\n",
       "      <td>6</td>\n",
       "      <td>7</td>\n",
       "      <td>6.9</td>\n",
       "    </tr>\n",
       "    <tr>\n",
       "      <th>6</th>\n",
       "      <td>ระบบ RAG (Retrieval-Augmented Generation) เพื่...</td>\n",
       "      <td>8</td>\n",
       "      <td>9</td>\n",
       "      <td>7</td>\n",
       "      <td>6.3</td>\n",
       "    </tr>\n",
       "    <tr>\n",
       "      <th>7</th>\n",
       "      <td>การใช้งาน AI แบบ Local และ Cloud ได้</td>\n",
       "      <td>8</td>\n",
       "      <td>9</td>\n",
       "      <td>7</td>\n",
       "      <td>6.3</td>\n",
       "    </tr>\n",
       "    <tr>\n",
       "      <th>8</th>\n",
       "      <td>ประสิทธิภาพในการจัดการข้อมูลขนาดใหญ่</td>\n",
       "      <td>7</td>\n",
       "      <td>8</td>\n",
       "      <td>6</td>\n",
       "      <td>5.7</td>\n",
       "    </tr>\n",
       "    <tr>\n",
       "      <th>9</th>\n",
       "      <td>การบูรณาการกับเครื่องมืออื่นๆ ผ่าน API</td>\n",
       "      <td>6</td>\n",
       "      <td>7</td>\n",
       "      <td>5</td>\n",
       "      <td>5.1</td>\n",
       "    </tr>\n",
       "  </tbody>\n",
       "</table>\n",
       "</div>"
      ],
      "text/plain": [
       "                                         ความต้องการ  ความสำคัญ (1-10)  \\\n",
       "0              การซิงค์ข้อมูลอัตโนมัติระหว่างอุปกรณ์                10   \n",
       "1      ความง่ายในการตั้งค่าและใช้งาน (ลดความซับซ้อน)                10   \n",
       "2                 การตั้งค่าครั้งเดียว ใช้งานได้ตลอด                10   \n",
       "3              การแก้ไขได้ทั้งบนคอมพิวเตอร์และมือถือ                 9   \n",
       "4  การเชื่อมต่อข้อมูลจากหลายแหล่ง (Obsidian, Noti...                 9   \n",
       "5  ความเป็นส่วนตัวของข้อมูล (ไม่ส่งข้อมูลออกนอกระ...                 8   \n",
       "6  ระบบ RAG (Retrieval-Augmented Generation) เพื่...                 8   \n",
       "7               การใช้งาน AI แบบ Local และ Cloud ได้                 8   \n",
       "8               ประสิทธิภาพในการจัดการข้อมูลขนาดใหญ่                 7   \n",
       "9             การบูรณาการกับเครื่องมืออื่นๆ ผ่าน API                 6   \n",
       "\n",
       "   ความยากในการพัฒนา (1-10)  ความเร่งด่วน (1-10)  คะแนนรวม  \n",
       "0                         7                   10       8.6  \n",
       "1                         7                    9       8.3  \n",
       "2                         8                    9       8.1  \n",
       "3                         7                    9       7.8  \n",
       "4                         8                    8       7.3  \n",
       "5                         6                    7       6.9  \n",
       "6                         9                    7       6.3  \n",
       "7                         9                    7       6.3  \n",
       "8                         8                    6       5.7  \n",
       "9                         7                    5       5.1  "
      ]
     },
     "metadata": {},
     "output_type": "display_data"
    },
    {
     "data": {
      "application/vnd.plotly.v1+json": {
       "config": {
        "plotlyServerURL": "https://plot.ly"
       },
       "data": [
        {
         "hovertemplate": "คะแนนรวม=%{marker.color}<br>ความต้องการ=%{y}<extra></extra>",
         "legendgroup": "",
         "marker": {
          "color": {
           "bdata": "MzMzMzMzIUCZmZmZmZkgQDMzMzMzMyBAMjMzMzMzH0A0MzMzMzMdQJmZmZmZmRtAMzMzMzMzGUAzMzMzMzMZQM3MzMzMzBZAZmZmZmZmFEA=",
           "dtype": "f8"
          },
          "coloraxis": "coloraxis",
          "pattern": {
           "shape": ""
          }
         },
         "name": "",
         "orientation": "h",
         "showlegend": false,
         "textposition": "auto",
         "type": "bar",
         "x": {
          "bdata": "MzMzMzMzIUCZmZmZmZkgQDMzMzMzMyBAMjMzMzMzH0A0MzMzMzMdQJmZmZmZmRtAMzMzMzMzGUAzMzMzMzMZQM3MzMzMzBZAZmZmZmZmFEA=",
          "dtype": "f8"
         },
         "xaxis": "x",
         "y": [
          "การซิงค์ข้อมูลอัตโนมัติระหว่างอุปกรณ์",
          "ความง่ายในการตั้งค่าและใช้งาน (ลดความซับซ้อน)",
          "การตั้งค่าครั้งเดียว ใช้งานได้ตลอด",
          "การแก้ไขได้ทั้งบนคอมพิวเตอร์และมือถือ",
          "การเชื่อมต่อข้อมูลจากหลายแหล่ง (Obsidian, Notion, ClickUp, Airtable)",
          "ความเป็นส่วนตัวของข้อมูล (ไม่ส่งข้อมูลออกนอกระบบโดยไม่จำเป็น)",
          "ระบบ RAG (Retrieval-Augmented Generation) เพื่อสืบค้นข้อมูล",
          "การใช้งาน AI แบบ Local และ Cloud ได้",
          "ประสิทธิภาพในการจัดการข้อมูลขนาดใหญ่",
          "การบูรณาการกับเครื่องมืออื่นๆ ผ่าน API"
         ],
         "yaxis": "y"
        }
       ],
       "layout": {
        "barmode": "relative",
        "coloraxis": {
         "colorbar": {
          "title": {
           "text": "คะแนนรวม"
          }
         },
         "colorscale": [
          [
           0,
           "#440154"
          ],
          [
           0.1111111111111111,
           "#482878"
          ],
          [
           0.2222222222222222,
           "#3e4989"
          ],
          [
           0.3333333333333333,
           "#31688e"
          ],
          [
           0.4444444444444444,
           "#26828e"
          ],
          [
           0.5555555555555556,
           "#1f9e89"
          ],
          [
           0.6666666666666666,
           "#35b779"
          ],
          [
           0.7777777777777778,
           "#6ece58"
          ],
          [
           0.8888888888888888,
           "#b5de2b"
          ],
          [
           1,
           "#fde725"
          ]
         ]
        },
        "height": 600,
        "legend": {
         "tracegroupgap": 0
        },
        "plot_bgcolor": "white",
        "template": {
         "data": {
          "bar": [
           {
            "error_x": {
             "color": "#2a3f5f"
            },
            "error_y": {
             "color": "#2a3f5f"
            },
            "marker": {
             "line": {
              "color": "#E5ECF6",
              "width": 0.5
             },
             "pattern": {
              "fillmode": "overlay",
              "size": 10,
              "solidity": 0.2
             }
            },
            "type": "bar"
           }
          ],
          "barpolar": [
           {
            "marker": {
             "line": {
              "color": "#E5ECF6",
              "width": 0.5
             },
             "pattern": {
              "fillmode": "overlay",
              "size": 10,
              "solidity": 0.2
             }
            },
            "type": "barpolar"
           }
          ],
          "carpet": [
           {
            "aaxis": {
             "endlinecolor": "#2a3f5f",
             "gridcolor": "white",
             "linecolor": "white",
             "minorgridcolor": "white",
             "startlinecolor": "#2a3f5f"
            },
            "baxis": {
             "endlinecolor": "#2a3f5f",
             "gridcolor": "white",
             "linecolor": "white",
             "minorgridcolor": "white",
             "startlinecolor": "#2a3f5f"
            },
            "type": "carpet"
           }
          ],
          "choropleth": [
           {
            "colorbar": {
             "outlinewidth": 0,
             "ticks": ""
            },
            "type": "choropleth"
           }
          ],
          "contour": [
           {
            "colorbar": {
             "outlinewidth": 0,
             "ticks": ""
            },
            "colorscale": [
             [
              0,
              "#0d0887"
             ],
             [
              0.1111111111111111,
              "#46039f"
             ],
             [
              0.2222222222222222,
              "#7201a8"
             ],
             [
              0.3333333333333333,
              "#9c179e"
             ],
             [
              0.4444444444444444,
              "#bd3786"
             ],
             [
              0.5555555555555556,
              "#d8576b"
             ],
             [
              0.6666666666666666,
              "#ed7953"
             ],
             [
              0.7777777777777778,
              "#fb9f3a"
             ],
             [
              0.8888888888888888,
              "#fdca26"
             ],
             [
              1,
              "#f0f921"
             ]
            ],
            "type": "contour"
           }
          ],
          "contourcarpet": [
           {
            "colorbar": {
             "outlinewidth": 0,
             "ticks": ""
            },
            "type": "contourcarpet"
           }
          ],
          "heatmap": [
           {
            "colorbar": {
             "outlinewidth": 0,
             "ticks": ""
            },
            "colorscale": [
             [
              0,
              "#0d0887"
             ],
             [
              0.1111111111111111,
              "#46039f"
             ],
             [
              0.2222222222222222,
              "#7201a8"
             ],
             [
              0.3333333333333333,
              "#9c179e"
             ],
             [
              0.4444444444444444,
              "#bd3786"
             ],
             [
              0.5555555555555556,
              "#d8576b"
             ],
             [
              0.6666666666666666,
              "#ed7953"
             ],
             [
              0.7777777777777778,
              "#fb9f3a"
             ],
             [
              0.8888888888888888,
              "#fdca26"
             ],
             [
              1,
              "#f0f921"
             ]
            ],
            "type": "heatmap"
           }
          ],
          "histogram": [
           {
            "marker": {
             "pattern": {
              "fillmode": "overlay",
              "size": 10,
              "solidity": 0.2
             }
            },
            "type": "histogram"
           }
          ],
          "histogram2d": [
           {
            "colorbar": {
             "outlinewidth": 0,
             "ticks": ""
            },
            "colorscale": [
             [
              0,
              "#0d0887"
             ],
             [
              0.1111111111111111,
              "#46039f"
             ],
             [
              0.2222222222222222,
              "#7201a8"
             ],
             [
              0.3333333333333333,
              "#9c179e"
             ],
             [
              0.4444444444444444,
              "#bd3786"
             ],
             [
              0.5555555555555556,
              "#d8576b"
             ],
             [
              0.6666666666666666,
              "#ed7953"
             ],
             [
              0.7777777777777778,
              "#fb9f3a"
             ],
             [
              0.8888888888888888,
              "#fdca26"
             ],
             [
              1,
              "#f0f921"
             ]
            ],
            "type": "histogram2d"
           }
          ],
          "histogram2dcontour": [
           {
            "colorbar": {
             "outlinewidth": 0,
             "ticks": ""
            },
            "colorscale": [
             [
              0,
              "#0d0887"
             ],
             [
              0.1111111111111111,
              "#46039f"
             ],
             [
              0.2222222222222222,
              "#7201a8"
             ],
             [
              0.3333333333333333,
              "#9c179e"
             ],
             [
              0.4444444444444444,
              "#bd3786"
             ],
             [
              0.5555555555555556,
              "#d8576b"
             ],
             [
              0.6666666666666666,
              "#ed7953"
             ],
             [
              0.7777777777777778,
              "#fb9f3a"
             ],
             [
              0.8888888888888888,
              "#fdca26"
             ],
             [
              1,
              "#f0f921"
             ]
            ],
            "type": "histogram2dcontour"
           }
          ],
          "mesh3d": [
           {
            "colorbar": {
             "outlinewidth": 0,
             "ticks": ""
            },
            "type": "mesh3d"
           }
          ],
          "parcoords": [
           {
            "line": {
             "colorbar": {
              "outlinewidth": 0,
              "ticks": ""
             }
            },
            "type": "parcoords"
           }
          ],
          "pie": [
           {
            "automargin": true,
            "type": "pie"
           }
          ],
          "scatter": [
           {
            "fillpattern": {
             "fillmode": "overlay",
             "size": 10,
             "solidity": 0.2
            },
            "type": "scatter"
           }
          ],
          "scatter3d": [
           {
            "line": {
             "colorbar": {
              "outlinewidth": 0,
              "ticks": ""
             }
            },
            "marker": {
             "colorbar": {
              "outlinewidth": 0,
              "ticks": ""
             }
            },
            "type": "scatter3d"
           }
          ],
          "scattercarpet": [
           {
            "marker": {
             "colorbar": {
              "outlinewidth": 0,
              "ticks": ""
             }
            },
            "type": "scattercarpet"
           }
          ],
          "scattergeo": [
           {
            "marker": {
             "colorbar": {
              "outlinewidth": 0,
              "ticks": ""
             }
            },
            "type": "scattergeo"
           }
          ],
          "scattergl": [
           {
            "marker": {
             "colorbar": {
              "outlinewidth": 0,
              "ticks": ""
             }
            },
            "type": "scattergl"
           }
          ],
          "scattermap": [
           {
            "marker": {
             "colorbar": {
              "outlinewidth": 0,
              "ticks": ""
             }
            },
            "type": "scattermap"
           }
          ],
          "scattermapbox": [
           {
            "marker": {
             "colorbar": {
              "outlinewidth": 0,
              "ticks": ""
             }
            },
            "type": "scattermapbox"
           }
          ],
          "scatterpolar": [
           {
            "marker": {
             "colorbar": {
              "outlinewidth": 0,
              "ticks": ""
             }
            },
            "type": "scatterpolar"
           }
          ],
          "scatterpolargl": [
           {
            "marker": {
             "colorbar": {
              "outlinewidth": 0,
              "ticks": ""
             }
            },
            "type": "scatterpolargl"
           }
          ],
          "scatterternary": [
           {
            "marker": {
             "colorbar": {
              "outlinewidth": 0,
              "ticks": ""
             }
            },
            "type": "scatterternary"
           }
          ],
          "surface": [
           {
            "colorbar": {
             "outlinewidth": 0,
             "ticks": ""
            },
            "colorscale": [
             [
              0,
              "#0d0887"
             ],
             [
              0.1111111111111111,
              "#46039f"
             ],
             [
              0.2222222222222222,
              "#7201a8"
             ],
             [
              0.3333333333333333,
              "#9c179e"
             ],
             [
              0.4444444444444444,
              "#bd3786"
             ],
             [
              0.5555555555555556,
              "#d8576b"
             ],
             [
              0.6666666666666666,
              "#ed7953"
             ],
             [
              0.7777777777777778,
              "#fb9f3a"
             ],
             [
              0.8888888888888888,
              "#fdca26"
             ],
             [
              1,
              "#f0f921"
             ]
            ],
            "type": "surface"
           }
          ],
          "table": [
           {
            "cells": {
             "fill": {
              "color": "#EBF0F8"
             },
             "line": {
              "color": "white"
             }
            },
            "header": {
             "fill": {
              "color": "#C8D4E3"
             },
             "line": {
              "color": "white"
             }
            },
            "type": "table"
           }
          ]
         },
         "layout": {
          "annotationdefaults": {
           "arrowcolor": "#2a3f5f",
           "arrowhead": 0,
           "arrowwidth": 1
          },
          "autotypenumbers": "strict",
          "coloraxis": {
           "colorbar": {
            "outlinewidth": 0,
            "ticks": ""
           }
          },
          "colorscale": {
           "diverging": [
            [
             0,
             "#8e0152"
            ],
            [
             0.1,
             "#c51b7d"
            ],
            [
             0.2,
             "#de77ae"
            ],
            [
             0.3,
             "#f1b6da"
            ],
            [
             0.4,
             "#fde0ef"
            ],
            [
             0.5,
             "#f7f7f7"
            ],
            [
             0.6,
             "#e6f5d0"
            ],
            [
             0.7,
             "#b8e186"
            ],
            [
             0.8,
             "#7fbc41"
            ],
            [
             0.9,
             "#4d9221"
            ],
            [
             1,
             "#276419"
            ]
           ],
           "sequential": [
            [
             0,
             "#0d0887"
            ],
            [
             0.1111111111111111,
             "#46039f"
            ],
            [
             0.2222222222222222,
             "#7201a8"
            ],
            [
             0.3333333333333333,
             "#9c179e"
            ],
            [
             0.4444444444444444,
             "#bd3786"
            ],
            [
             0.5555555555555556,
             "#d8576b"
            ],
            [
             0.6666666666666666,
             "#ed7953"
            ],
            [
             0.7777777777777778,
             "#fb9f3a"
            ],
            [
             0.8888888888888888,
             "#fdca26"
            ],
            [
             1,
             "#f0f921"
            ]
           ],
           "sequentialminus": [
            [
             0,
             "#0d0887"
            ],
            [
             0.1111111111111111,
             "#46039f"
            ],
            [
             0.2222222222222222,
             "#7201a8"
            ],
            [
             0.3333333333333333,
             "#9c179e"
            ],
            [
             0.4444444444444444,
             "#bd3786"
            ],
            [
             0.5555555555555556,
             "#d8576b"
            ],
            [
             0.6666666666666666,
             "#ed7953"
            ],
            [
             0.7777777777777778,
             "#fb9f3a"
            ],
            [
             0.8888888888888888,
             "#fdca26"
            ],
            [
             1,
             "#f0f921"
            ]
           ]
          },
          "colorway": [
           "#636efa",
           "#EF553B",
           "#00cc96",
           "#ab63fa",
           "#FFA15A",
           "#19d3f3",
           "#FF6692",
           "#B6E880",
           "#FF97FF",
           "#FECB52"
          ],
          "font": {
           "color": "#2a3f5f"
          },
          "geo": {
           "bgcolor": "white",
           "lakecolor": "white",
           "landcolor": "#E5ECF6",
           "showlakes": true,
           "showland": true,
           "subunitcolor": "white"
          },
          "hoverlabel": {
           "align": "left"
          },
          "hovermode": "closest",
          "mapbox": {
           "style": "light"
          },
          "paper_bgcolor": "white",
          "plot_bgcolor": "#E5ECF6",
          "polar": {
           "angularaxis": {
            "gridcolor": "white",
            "linecolor": "white",
            "ticks": ""
           },
           "bgcolor": "#E5ECF6",
           "radialaxis": {
            "gridcolor": "white",
            "linecolor": "white",
            "ticks": ""
           }
          },
          "scene": {
           "xaxis": {
            "backgroundcolor": "#E5ECF6",
            "gridcolor": "white",
            "gridwidth": 2,
            "linecolor": "white",
            "showbackground": true,
            "ticks": "",
            "zerolinecolor": "white"
           },
           "yaxis": {
            "backgroundcolor": "#E5ECF6",
            "gridcolor": "white",
            "gridwidth": 2,
            "linecolor": "white",
            "showbackground": true,
            "ticks": "",
            "zerolinecolor": "white"
           },
           "zaxis": {
            "backgroundcolor": "#E5ECF6",
            "gridcolor": "white",
            "gridwidth": 2,
            "linecolor": "white",
            "showbackground": true,
            "ticks": "",
            "zerolinecolor": "white"
           }
          },
          "shapedefaults": {
           "line": {
            "color": "#2a3f5f"
           }
          },
          "ternary": {
           "aaxis": {
            "gridcolor": "white",
            "linecolor": "white",
            "ticks": ""
           },
           "baxis": {
            "gridcolor": "white",
            "linecolor": "white",
            "ticks": ""
           },
           "bgcolor": "#E5ECF6",
           "caxis": {
            "gridcolor": "white",
            "linecolor": "white",
            "ticks": ""
           }
          },
          "title": {
           "x": 0.05
          },
          "xaxis": {
           "automargin": true,
           "gridcolor": "white",
           "linecolor": "white",
           "ticks": "",
           "title": {
            "standoff": 15
           },
           "zerolinecolor": "white",
           "zerolinewidth": 2
          },
          "yaxis": {
           "automargin": true,
           "gridcolor": "white",
           "linecolor": "white",
           "ticks": "",
           "title": {
            "standoff": 15
           },
           "zerolinecolor": "white",
           "zerolinewidth": 2
          }
         }
        },
        "title": {
         "text": "ความต้องการของระบบ NoteWeave เรียงตามลำดับความสำคัญ"
        },
        "xaxis": {
         "anchor": "y",
         "domain": [
          0,
          1
         ],
         "title": {
          "text": "คะแนนรวม"
         }
        },
        "yaxis": {
         "anchor": "x",
         "categoryorder": "total ascending",
         "domain": [
          0,
          1
         ],
         "title": {
          "text": "ความต้องการ"
         }
        }
       }
      }
     },
     "metadata": {},
     "output_type": "display_data"
    },
    {
     "data": {
      "application/vnd.plotly.v1+json": {
       "config": {
        "plotlyServerURL": "https://plot.ly"
       },
       "data": [
        {
         "hovertemplate": "<b>%{hovertext}</b><br><br>ความสำคัญ (1-10)=%{x}<br>ความยากในการพัฒนา (1-10)=%{y}<br>ความเร่งด่วน (1-10)=%{marker.size}<br>index=%{text}<br>คะแนนรวม=%{marker.color}<extra></extra>",
         "hovertext": [
          "การซิงค์ข้อมูลอัตโนมัติระหว่างอุปกรณ์",
          "การเชื่อมต่อข้อมูลจากหลายแหล่ง (Obsidian, Notion, ClickUp, Airtable)",
          "ระบบ RAG (Retrieval-Augmented Generation) เพื่อสืบค้นข้อมูล",
          "ความเป็นส่วนตัวของข้อมูล (ไม่ส่งข้อมูลออกนอกระบบโดยไม่จำเป็น)",
          "ความง่ายในการตั้งค่าและใช้งาน (ลดความซับซ้อน)",
          "การแก้ไขได้ทั้งบนคอมพิวเตอร์และมือถือ",
          "ประสิทธิภาพในการจัดการข้อมูลขนาดใหญ่",
          "การบูรณาการกับเครื่องมืออื่นๆ ผ่าน API",
          "การตั้งค่าครั้งเดียว ใช้งานได้ตลอด",
          "การใช้งาน AI แบบ Local และ Cloud ได้"
         ],
         "legendgroup": "",
         "marker": {
          "color": {
           "bdata": "MzMzMzMzIUA0MzMzMzMdQDMzMzMzMxlAmZmZmZmZG0CZmZmZmZkgQDIzMzMzMx9AzczMzMzMFkBmZmZmZmYUQDMzMzMzMyBAMzMzMzMzGUA=",
           "dtype": "f8"
          },
          "coloraxis": "coloraxis",
          "size": {
           "bdata": "CggHBwkJBgUJBw==",
           "dtype": "i1"
          },
          "sizemode": "area",
          "sizeref": 0.025,
          "symbol": "circle"
         },
         "mode": "markers+text",
         "name": "",
         "orientation": "v",
         "showlegend": false,
         "text": {
          "bdata": "AAAAAAAAAAAAAAAAAADwPwAAAAAAAABAAAAAAAAACEAAAAAAAAAQQAAAAAAAABRAAAAAAAAAGEAAAAAAAAAcQAAAAAAAACBAAAAAAAAAIkA=",
          "dtype": "f8"
         },
         "type": "scatter",
         "x": {
          "bdata": "CgkICAoJBwYKCA==",
          "dtype": "i1"
         },
         "xaxis": "x",
         "y": {
          "bdata": "BwgJBgcHCAcICQ==",
          "dtype": "i1"
         },
         "yaxis": "y"
        }
       ],
       "layout": {
        "annotations": [
         {
          "arrowhead": 1,
          "ax": 40,
          "ay": -40,
          "font": {
           "size": 10
          },
          "showarrow": true,
          "text": "การซิงค์ข้อมูลอัตโนมัติระหว่างอุปกรณ์",
          "x": 10,
          "y": 7
         },
         {
          "arrowhead": 1,
          "ax": 40,
          "ay": -40,
          "font": {
           "size": 10
          },
          "showarrow": true,
          "text": "การเชื่อมต่อข้อมูลจากหลายแหล่ง (Obsidian, Notion, ClickUp, Airtable)",
          "x": 9,
          "y": 8
         },
         {
          "arrowhead": 1,
          "ax": 40,
          "ay": -40,
          "font": {
           "size": 10
          },
          "showarrow": true,
          "text": "ระบบ RAG (Retrieval-Augmented Generation) เพื่อสืบค้นข้อมูล",
          "x": 8,
          "y": 9
         },
         {
          "arrowhead": 1,
          "ax": 40,
          "ay": -40,
          "font": {
           "size": 10
          },
          "showarrow": true,
          "text": "ความเป็นส่วนตัวของข้อมูล (ไม่ส่งข้อมูลออกนอกระบบโดยไม่จำเป็น)",
          "x": 8,
          "y": 6
         },
         {
          "arrowhead": 1,
          "ax": 40,
          "ay": -40,
          "font": {
           "size": 10
          },
          "showarrow": true,
          "text": "ความง่ายในการตั้งค่าและใช้งาน (ลดความซับซ้อน)",
          "x": 10,
          "y": 7
         },
         {
          "arrowhead": 1,
          "ax": 40,
          "ay": -40,
          "font": {
           "size": 10
          },
          "showarrow": true,
          "text": "การแก้ไขได้ทั้งบนคอมพิวเตอร์และมือถือ",
          "x": 9,
          "y": 7
         },
         {
          "arrowhead": 1,
          "ax": 40,
          "ay": -40,
          "font": {
           "size": 10
          },
          "showarrow": true,
          "text": "ประสิทธิภาพในการจัดการข้อมูลขนาดใหญ่",
          "x": 7,
          "y": 8
         },
         {
          "arrowhead": 1,
          "ax": 40,
          "ay": -40,
          "font": {
           "size": 10
          },
          "showarrow": true,
          "text": "การบูรณาการกับเครื่องมืออื่นๆ ผ่าน API",
          "x": 6,
          "y": 7
         },
         {
          "arrowhead": 1,
          "ax": 40,
          "ay": -40,
          "font": {
           "size": 10
          },
          "showarrow": true,
          "text": "การตั้งค่าครั้งเดียว ใช้งานได้ตลอด",
          "x": 10,
          "y": 8
         },
         {
          "arrowhead": 1,
          "ax": 40,
          "ay": -40,
          "font": {
           "size": 10
          },
          "showarrow": true,
          "text": "การใช้งาน AI แบบ Local และ Cloud ได้",
          "x": 8,
          "y": 9
         }
        ],
        "coloraxis": {
         "colorbar": {
          "title": {
           "text": "คะแนนรวม"
          }
         },
         "colorscale": [
          [
           0,
           "#440154"
          ],
          [
           0.1111111111111111,
           "#482878"
          ],
          [
           0.2222222222222222,
           "#3e4989"
          ],
          [
           0.3333333333333333,
           "#31688e"
          ],
          [
           0.4444444444444444,
           "#26828e"
          ],
          [
           0.5555555555555556,
           "#1f9e89"
          ],
          [
           0.6666666666666666,
           "#35b779"
          ],
          [
           0.7777777777777778,
           "#6ece58"
          ],
          [
           0.8888888888888888,
           "#b5de2b"
          ],
          [
           1,
           "#fde725"
          ]
         ]
        },
        "height": 600,
        "legend": {
         "itemsizing": "constant",
         "tracegroupgap": 0
        },
        "plot_bgcolor": "white",
        "template": {
         "data": {
          "bar": [
           {
            "error_x": {
             "color": "#2a3f5f"
            },
            "error_y": {
             "color": "#2a3f5f"
            },
            "marker": {
             "line": {
              "color": "#E5ECF6",
              "width": 0.5
             },
             "pattern": {
              "fillmode": "overlay",
              "size": 10,
              "solidity": 0.2
             }
            },
            "type": "bar"
           }
          ],
          "barpolar": [
           {
            "marker": {
             "line": {
              "color": "#E5ECF6",
              "width": 0.5
             },
             "pattern": {
              "fillmode": "overlay",
              "size": 10,
              "solidity": 0.2
             }
            },
            "type": "barpolar"
           }
          ],
          "carpet": [
           {
            "aaxis": {
             "endlinecolor": "#2a3f5f",
             "gridcolor": "white",
             "linecolor": "white",
             "minorgridcolor": "white",
             "startlinecolor": "#2a3f5f"
            },
            "baxis": {
             "endlinecolor": "#2a3f5f",
             "gridcolor": "white",
             "linecolor": "white",
             "minorgridcolor": "white",
             "startlinecolor": "#2a3f5f"
            },
            "type": "carpet"
           }
          ],
          "choropleth": [
           {
            "colorbar": {
             "outlinewidth": 0,
             "ticks": ""
            },
            "type": "choropleth"
           }
          ],
          "contour": [
           {
            "colorbar": {
             "outlinewidth": 0,
             "ticks": ""
            },
            "colorscale": [
             [
              0,
              "#0d0887"
             ],
             [
              0.1111111111111111,
              "#46039f"
             ],
             [
              0.2222222222222222,
              "#7201a8"
             ],
             [
              0.3333333333333333,
              "#9c179e"
             ],
             [
              0.4444444444444444,
              "#bd3786"
             ],
             [
              0.5555555555555556,
              "#d8576b"
             ],
             [
              0.6666666666666666,
              "#ed7953"
             ],
             [
              0.7777777777777778,
              "#fb9f3a"
             ],
             [
              0.8888888888888888,
              "#fdca26"
             ],
             [
              1,
              "#f0f921"
             ]
            ],
            "type": "contour"
           }
          ],
          "contourcarpet": [
           {
            "colorbar": {
             "outlinewidth": 0,
             "ticks": ""
            },
            "type": "contourcarpet"
           }
          ],
          "heatmap": [
           {
            "colorbar": {
             "outlinewidth": 0,
             "ticks": ""
            },
            "colorscale": [
             [
              0,
              "#0d0887"
             ],
             [
              0.1111111111111111,
              "#46039f"
             ],
             [
              0.2222222222222222,
              "#7201a8"
             ],
             [
              0.3333333333333333,
              "#9c179e"
             ],
             [
              0.4444444444444444,
              "#bd3786"
             ],
             [
              0.5555555555555556,
              "#d8576b"
             ],
             [
              0.6666666666666666,
              "#ed7953"
             ],
             [
              0.7777777777777778,
              "#fb9f3a"
             ],
             [
              0.8888888888888888,
              "#fdca26"
             ],
             [
              1,
              "#f0f921"
             ]
            ],
            "type": "heatmap"
           }
          ],
          "histogram": [
           {
            "marker": {
             "pattern": {
              "fillmode": "overlay",
              "size": 10,
              "solidity": 0.2
             }
            },
            "type": "histogram"
           }
          ],
          "histogram2d": [
           {
            "colorbar": {
             "outlinewidth": 0,
             "ticks": ""
            },
            "colorscale": [
             [
              0,
              "#0d0887"
             ],
             [
              0.1111111111111111,
              "#46039f"
             ],
             [
              0.2222222222222222,
              "#7201a8"
             ],
             [
              0.3333333333333333,
              "#9c179e"
             ],
             [
              0.4444444444444444,
              "#bd3786"
             ],
             [
              0.5555555555555556,
              "#d8576b"
             ],
             [
              0.6666666666666666,
              "#ed7953"
             ],
             [
              0.7777777777777778,
              "#fb9f3a"
             ],
             [
              0.8888888888888888,
              "#fdca26"
             ],
             [
              1,
              "#f0f921"
             ]
            ],
            "type": "histogram2d"
           }
          ],
          "histogram2dcontour": [
           {
            "colorbar": {
             "outlinewidth": 0,
             "ticks": ""
            },
            "colorscale": [
             [
              0,
              "#0d0887"
             ],
             [
              0.1111111111111111,
              "#46039f"
             ],
             [
              0.2222222222222222,
              "#7201a8"
             ],
             [
              0.3333333333333333,
              "#9c179e"
             ],
             [
              0.4444444444444444,
              "#bd3786"
             ],
             [
              0.5555555555555556,
              "#d8576b"
             ],
             [
              0.6666666666666666,
              "#ed7953"
             ],
             [
              0.7777777777777778,
              "#fb9f3a"
             ],
             [
              0.8888888888888888,
              "#fdca26"
             ],
             [
              1,
              "#f0f921"
             ]
            ],
            "type": "histogram2dcontour"
           }
          ],
          "mesh3d": [
           {
            "colorbar": {
             "outlinewidth": 0,
             "ticks": ""
            },
            "type": "mesh3d"
           }
          ],
          "parcoords": [
           {
            "line": {
             "colorbar": {
              "outlinewidth": 0,
              "ticks": ""
             }
            },
            "type": "parcoords"
           }
          ],
          "pie": [
           {
            "automargin": true,
            "type": "pie"
           }
          ],
          "scatter": [
           {
            "fillpattern": {
             "fillmode": "overlay",
             "size": 10,
             "solidity": 0.2
            },
            "type": "scatter"
           }
          ],
          "scatter3d": [
           {
            "line": {
             "colorbar": {
              "outlinewidth": 0,
              "ticks": ""
             }
            },
            "marker": {
             "colorbar": {
              "outlinewidth": 0,
              "ticks": ""
             }
            },
            "type": "scatter3d"
           }
          ],
          "scattercarpet": [
           {
            "marker": {
             "colorbar": {
              "outlinewidth": 0,
              "ticks": ""
             }
            },
            "type": "scattercarpet"
           }
          ],
          "scattergeo": [
           {
            "marker": {
             "colorbar": {
              "outlinewidth": 0,
              "ticks": ""
             }
            },
            "type": "scattergeo"
           }
          ],
          "scattergl": [
           {
            "marker": {
             "colorbar": {
              "outlinewidth": 0,
              "ticks": ""
             }
            },
            "type": "scattergl"
           }
          ],
          "scattermap": [
           {
            "marker": {
             "colorbar": {
              "outlinewidth": 0,
              "ticks": ""
             }
            },
            "type": "scattermap"
           }
          ],
          "scattermapbox": [
           {
            "marker": {
             "colorbar": {
              "outlinewidth": 0,
              "ticks": ""
             }
            },
            "type": "scattermapbox"
           }
          ],
          "scatterpolar": [
           {
            "marker": {
             "colorbar": {
              "outlinewidth": 0,
              "ticks": ""
             }
            },
            "type": "scatterpolar"
           }
          ],
          "scatterpolargl": [
           {
            "marker": {
             "colorbar": {
              "outlinewidth": 0,
              "ticks": ""
             }
            },
            "type": "scatterpolargl"
           }
          ],
          "scatterternary": [
           {
            "marker": {
             "colorbar": {
              "outlinewidth": 0,
              "ticks": ""
             }
            },
            "type": "scatterternary"
           }
          ],
          "surface": [
           {
            "colorbar": {
             "outlinewidth": 0,
             "ticks": ""
            },
            "colorscale": [
             [
              0,
              "#0d0887"
             ],
             [
              0.1111111111111111,
              "#46039f"
             ],
             [
              0.2222222222222222,
              "#7201a8"
             ],
             [
              0.3333333333333333,
              "#9c179e"
             ],
             [
              0.4444444444444444,
              "#bd3786"
             ],
             [
              0.5555555555555556,
              "#d8576b"
             ],
             [
              0.6666666666666666,
              "#ed7953"
             ],
             [
              0.7777777777777778,
              "#fb9f3a"
             ],
             [
              0.8888888888888888,
              "#fdca26"
             ],
             [
              1,
              "#f0f921"
             ]
            ],
            "type": "surface"
           }
          ],
          "table": [
           {
            "cells": {
             "fill": {
              "color": "#EBF0F8"
             },
             "line": {
              "color": "white"
             }
            },
            "header": {
             "fill": {
              "color": "#C8D4E3"
             },
             "line": {
              "color": "white"
             }
            },
            "type": "table"
           }
          ]
         },
         "layout": {
          "annotationdefaults": {
           "arrowcolor": "#2a3f5f",
           "arrowhead": 0,
           "arrowwidth": 1
          },
          "autotypenumbers": "strict",
          "coloraxis": {
           "colorbar": {
            "outlinewidth": 0,
            "ticks": ""
           }
          },
          "colorscale": {
           "diverging": [
            [
             0,
             "#8e0152"
            ],
            [
             0.1,
             "#c51b7d"
            ],
            [
             0.2,
             "#de77ae"
            ],
            [
             0.3,
             "#f1b6da"
            ],
            [
             0.4,
             "#fde0ef"
            ],
            [
             0.5,
             "#f7f7f7"
            ],
            [
             0.6,
             "#e6f5d0"
            ],
            [
             0.7,
             "#b8e186"
            ],
            [
             0.8,
             "#7fbc41"
            ],
            [
             0.9,
             "#4d9221"
            ],
            [
             1,
             "#276419"
            ]
           ],
           "sequential": [
            [
             0,
             "#0d0887"
            ],
            [
             0.1111111111111111,
             "#46039f"
            ],
            [
             0.2222222222222222,
             "#7201a8"
            ],
            [
             0.3333333333333333,
             "#9c179e"
            ],
            [
             0.4444444444444444,
             "#bd3786"
            ],
            [
             0.5555555555555556,
             "#d8576b"
            ],
            [
             0.6666666666666666,
             "#ed7953"
            ],
            [
             0.7777777777777778,
             "#fb9f3a"
            ],
            [
             0.8888888888888888,
             "#fdca26"
            ],
            [
             1,
             "#f0f921"
            ]
           ],
           "sequentialminus": [
            [
             0,
             "#0d0887"
            ],
            [
             0.1111111111111111,
             "#46039f"
            ],
            [
             0.2222222222222222,
             "#7201a8"
            ],
            [
             0.3333333333333333,
             "#9c179e"
            ],
            [
             0.4444444444444444,
             "#bd3786"
            ],
            [
             0.5555555555555556,
             "#d8576b"
            ],
            [
             0.6666666666666666,
             "#ed7953"
            ],
            [
             0.7777777777777778,
             "#fb9f3a"
            ],
            [
             0.8888888888888888,
             "#fdca26"
            ],
            [
             1,
             "#f0f921"
            ]
           ]
          },
          "colorway": [
           "#636efa",
           "#EF553B",
           "#00cc96",
           "#ab63fa",
           "#FFA15A",
           "#19d3f3",
           "#FF6692",
           "#B6E880",
           "#FF97FF",
           "#FECB52"
          ],
          "font": {
           "color": "#2a3f5f"
          },
          "geo": {
           "bgcolor": "white",
           "lakecolor": "white",
           "landcolor": "#E5ECF6",
           "showlakes": true,
           "showland": true,
           "subunitcolor": "white"
          },
          "hoverlabel": {
           "align": "left"
          },
          "hovermode": "closest",
          "mapbox": {
           "style": "light"
          },
          "paper_bgcolor": "white",
          "plot_bgcolor": "#E5ECF6",
          "polar": {
           "angularaxis": {
            "gridcolor": "white",
            "linecolor": "white",
            "ticks": ""
           },
           "bgcolor": "#E5ECF6",
           "radialaxis": {
            "gridcolor": "white",
            "linecolor": "white",
            "ticks": ""
           }
          },
          "scene": {
           "xaxis": {
            "backgroundcolor": "#E5ECF6",
            "gridcolor": "white",
            "gridwidth": 2,
            "linecolor": "white",
            "showbackground": true,
            "ticks": "",
            "zerolinecolor": "white"
           },
           "yaxis": {
            "backgroundcolor": "#E5ECF6",
            "gridcolor": "white",
            "gridwidth": 2,
            "linecolor": "white",
            "showbackground": true,
            "ticks": "",
            "zerolinecolor": "white"
           },
           "zaxis": {
            "backgroundcolor": "#E5ECF6",
            "gridcolor": "white",
            "gridwidth": 2,
            "linecolor": "white",
            "showbackground": true,
            "ticks": "",
            "zerolinecolor": "white"
           }
          },
          "shapedefaults": {
           "line": {
            "color": "#2a3f5f"
           }
          },
          "ternary": {
           "aaxis": {
            "gridcolor": "white",
            "linecolor": "white",
            "ticks": ""
           },
           "baxis": {
            "gridcolor": "white",
            "linecolor": "white",
            "ticks": ""
           },
           "bgcolor": "#E5ECF6",
           "caxis": {
            "gridcolor": "white",
            "linecolor": "white",
            "ticks": ""
           }
          },
          "title": {
           "x": 0.05
          },
          "xaxis": {
           "automargin": true,
           "gridcolor": "white",
           "linecolor": "white",
           "ticks": "",
           "title": {
            "standoff": 15
           },
           "zerolinecolor": "white",
           "zerolinewidth": 2
          },
          "yaxis": {
           "automargin": true,
           "gridcolor": "white",
           "linecolor": "white",
           "ticks": "",
           "title": {
            "standoff": 15
           },
           "zerolinecolor": "white",
           "zerolinewidth": 2
          }
         }
        },
        "title": {
         "text": "ความสัมพันธ์ระหว่างความสำคัญและความยากในการพัฒนา"
        },
        "xaxis": {
         "anchor": "y",
         "domain": [
          0,
          1
         ],
         "title": {
          "text": "ความสำคัญ (1-10)"
         }
        },
        "yaxis": {
         "anchor": "x",
         "domain": [
          0,
          1
         ],
         "title": {
          "text": "ความยากในการพัฒนา (1-10)"
         }
        }
       }
      }
     },
     "metadata": {},
     "output_type": "display_data"
    }
   ],
   "source": [
    "# กำหนดความต้องการ (Requirements) ของระบบ\n",
    "requirements = pd.DataFrame({\n",
    "    'ความต้องการ': [\n",
    "        'การซิงค์ข้อมูลอัตโนมัติระหว่างอุปกรณ์',\n",
    "        'การเชื่อมต่อข้อมูลจากหลายแหล่ง (Obsidian, Notion, ClickUp, Airtable)',\n",
    "        'ระบบ RAG (Retrieval-Augmented Generation) เพื่อสืบค้นข้อมูล',\n",
    "        'ความเป็นส่วนตัวของข้อมูล (ไม่ส่งข้อมูลออกนอกระบบโดยไม่จำเป็น)',\n",
    "        'ความง่ายในการตั้งค่าและใช้งาน (ลดความซับซ้อน)',\n",
    "        'การแก้ไขได้ทั้งบนคอมพิวเตอร์และมือถือ',\n",
    "        'ประสิทธิภาพในการจัดการข้อมูลขนาดใหญ่',\n",
    "        'การบูรณาการกับเครื่องมืออื่นๆ ผ่าน API',\n",
    "        'การตั้งค่าครั้งเดียว ใช้งานได้ตลอด',\n",
    "        'การใช้งาน AI แบบ Local และ Cloud ได้'\n",
    "    ],\n",
    "    'ความสำคัญ (1-10)': [10, 9, 8, 8, 10, 9, 7, 6, 10, 8],\n",
    "    'ความยากในการพัฒนา (1-10)': [7, 8, 9, 6, 7, 7, 8, 7, 8, 9],\n",
    "    'ความเร่งด่วน (1-10)': [10, 8, 7, 7, 9, 9, 6, 5, 9, 7]\n",
    "})\n",
    "\n",
    "# คำนวณคะแนนลำดับความสำคัญ\n",
    "requirements['คะแนนรวม'] = requirements['ความสำคัญ (1-10)'] * 0.5 + \\\n",
    "                          requirements['ความเร่งด่วน (1-10)'] * 0.3 + \\\n",
    "                          (10 - requirements['ความยากในการพัฒนา (1-10)']) * 0.2\n",
    "\n",
    "# เรียงลำดับตามคะแนนรวม\n",
    "requirements_sorted = requirements.sort_values('คะแนนรวม', ascending=False).reset_index(drop=True)\n",
    "\n",
    "# แสดงตารางความต้องการเรียงตามลำดับความสำคัญ\n",
    "print(\"ความต้องการของระบบ NoteWeave เรียงตามลำดับความสำคัญ:\")\n",
    "display(requirements_sorted)\n",
    "\n",
    "# สร้างแผนภาพแสดงความต้องการตามคะแนนรวม\n",
    "fig = px.bar(requirements_sorted, y='ความต้องการ', x='คะแนนรวม', \n",
    "             color='คะแนนรวม', orientation='h',\n",
    "             title='ความต้องการของระบบ NoteWeave เรียงตามลำดับความสำคัญ',\n",
    "             labels={'ความต้องการ': 'ความต้องการ', 'คะแนนรวม': 'คะแนนรวม'},\n",
    "             height=600, \n",
    "             color_continuous_scale='Viridis')\n",
    "\n",
    "fig.update_layout(\n",
    "    plot_bgcolor='white',\n",
    "    yaxis={'categoryorder':'total ascending'},\n",
    "    xaxis_title='คะแนนรวม',\n",
    "    yaxis_title='ความต้องการ'\n",
    ")\n",
    "\n",
    "fig.show()\n",
    "\n",
    "# สร้างแผนภาพแสดงความสัมพันธ์ระหว่างความสำคัญและความยากในการพัฒนา\n",
    "fig = px.scatter(requirements, x='ความสำคัญ (1-10)', y='ความยากในการพัฒนา (1-10)',\n",
    "                 size='ความเร่งด่วน (1-10)', color='คะแนนรวม',\n",
    "                 hover_name='ความต้องการ', text=requirements.index,\n",
    "                 title='ความสัมพันธ์ระหว่างความสำคัญและความยากในการพัฒนา',\n",
    "                 height=600,\n",
    "                 color_continuous_scale='Viridis')\n",
    "\n",
    "# แสดงข้อความของความต้องการในกราฟ\n",
    "for i, row in requirements.iterrows():\n",
    "    fig.add_annotation(\n",
    "        x=row['ความสำคัญ (1-10)'],\n",
    "        y=row['ความยากในการพัฒนา (1-10)'],\n",
    "        text=row['ความต้องการ'],\n",
    "        showarrow=True,\n",
    "        arrowhead=1,\n",
    "        ax=40,\n",
    "        ay=-40,\n",
    "        font=dict(size=10)\n",
    "    )\n",
    "\n",
    "fig.update_layout(\n",
    "    plot_bgcolor='white',\n",
    "    xaxis_title='ความสำคัญ (1-10)',\n",
    "    yaxis_title='ความยากในการพัฒนา (1-10)'\n",
    ")\n",
    "\n",
    "fig.show()"
   ]
  },
  {
   "cell_type": "markdown",
   "id": "65c3e93b",
   "metadata": {},
   "source": [
    "### ความต้องการหลักของระบบ NoteWeave\n",
    "\n",
    "จากการวิเคราะห์ความต้องการ 5 อันดับแรกที่มีความสำคัญสูงสุดคือ:\n",
    "\n",
    "1. **การซิงค์ข้อมูลอัตโนมัติระหว่างอุปกรณ์** - เป็นปัญหาเร่งด่วนที่สุดที่ต้องแก้ไข\n",
    "2. **ความง่ายในการตั้งค่าและใช้งาน** - ลดความซับซ้อนในการตั้งค่าและใช้งาน\n",
    "3. **การตั้งค่าครั้งเดียว ใช้งานได้ตลอด** - ระบบควรต้องการการตั้งค่าน้อยที่สุด\n",
    "4. **การแก้ไขได้ทั้งบนคอมพิวเตอร์และมือถือ** - สามารถทำงานได้บนทุกอุปกรณ์\n",
    "5. **การเชื่อมต่อข้อมูลจากหลายแหล่ง** - รองรับ Obsidian, Notion, ClickUp, Airtable\n",
    "\n",
    "ความต้องการเหล่านี้จะเป็นแนวทางในการออกแบบและพัฒนาระบบ NoteWeave"
   ]
  },
  {
   "cell_type": "markdown",
   "id": "8d14cf94",
   "metadata": {},
   "source": [
    "# การวิเคราะห์ระบบ NoteWeave และ RAG\n",
    "\n",
    "Notebook นี้จะช่วยวิเคราะห์และคำนวณเกี่ยวกับระบบ NoteWeave และการใช้ RAG (Retrieval-Augmented Generation) สำหรับการจัดการข้อมูลจากหลายแหล่ง"
   ]
  },
  {
   "cell_type": "markdown",
   "id": "40dc16ce",
   "metadata": {},
   "source": [
    "## 1. การวิเคราะห์สถานการณ์ปัจจุบัน\n",
    "\n",
    "เริ่มต้นด้วยการนำเข้าไลบรารีที่จำเป็นและทำความเข้าใจสถานการณ์ปัจจุบัน"
   ]
  },
  {
   "cell_type": "code",
   "execution_count": 1,
   "id": "ec145422",
   "metadata": {},
   "outputs": [
    {
     "ename": "ModuleNotFoundError",
     "evalue": "No module named 'matplotlib'",
     "output_type": "error",
     "traceback": [
      "\u001b[31m---------------------------------------------------------------------------\u001b[39m",
      "\u001b[31mModuleNotFoundError\u001b[39m                       Traceback (most recent call last)",
      "\u001b[36mCell\u001b[39m\u001b[36m \u001b[39m\u001b[32mIn[1]\u001b[39m\u001b[32m, line 4\u001b[39m\n\u001b[32m      2\u001b[39m \u001b[38;5;28;01mimport\u001b[39;00m\u001b[38;5;250m \u001b[39m\u001b[34;01mpandas\u001b[39;00m\u001b[38;5;250m \u001b[39m\u001b[38;5;28;01mas\u001b[39;00m\u001b[38;5;250m \u001b[39m\u001b[34;01mpd\u001b[39;00m\n\u001b[32m      3\u001b[39m \u001b[38;5;28;01mimport\u001b[39;00m\u001b[38;5;250m \u001b[39m\u001b[34;01mnumpy\u001b[39;00m\u001b[38;5;250m \u001b[39m\u001b[38;5;28;01mas\u001b[39;00m\u001b[38;5;250m \u001b[39m\u001b[34;01mnp\u001b[39;00m\n\u001b[32m----> \u001b[39m\u001b[32m4\u001b[39m \u001b[38;5;28;01mimport\u001b[39;00m\u001b[38;5;250m \u001b[39m\u001b[34;01mmatplotlib\u001b[39;00m\u001b[34;01m.\u001b[39;00m\u001b[34;01mpyplot\u001b[39;00m\u001b[38;5;250m \u001b[39m\u001b[38;5;28;01mas\u001b[39;00m\u001b[38;5;250m \u001b[39m\u001b[34;01mplt\u001b[39;00m\n\u001b[32m      5\u001b[39m \u001b[38;5;28;01mimport\u001b[39;00m\u001b[38;5;250m \u001b[39m\u001b[34;01mseaborn\u001b[39;00m\u001b[38;5;250m \u001b[39m\u001b[38;5;28;01mas\u001b[39;00m\u001b[38;5;250m \u001b[39m\u001b[34;01msns\u001b[39;00m\n\u001b[32m      7\u001b[39m \u001b[38;5;66;03m# ตั้งค่าการแสดงผล\u001b[39;00m\n",
      "\u001b[31mModuleNotFoundError\u001b[39m: No module named 'matplotlib'"
     ]
    }
   ],
   "source": [
    "# นำเข้าไลบรารีที่จำเป็น\n",
    "import pandas as pd\n",
    "import numpy as np\n",
    "import matplotlib.pyplot as plt\n",
    "import seaborn as sns\n",
    "\n",
    "# ตั้งค่าการแสดงผล\n",
    "plt.style.use('ggplot')\n",
    "sns.set(style='whitegrid')\n",
    "%matplotlib inline"
   ]
  },
  {
   "cell_type": "markdown",
   "id": "dba07290",
   "metadata": {},
   "source": [
    "### 1.1 ปริมาณข้อมูลและแหล่งข้อมูล\n",
    "\n",
    "จำนวนไฟล์และข้อมูลทั้งหมดที่ต้องการจัดการ"
   ]
  },
  {
   "cell_type": "code",
   "execution_count": null,
   "id": "7b10fc45",
   "metadata": {},
   "outputs": [],
   "source": [
    "# ข้อมูลปริมาณไฟล์ตามแหล่งข้อมูล\n",
    "data_sources = {\n",
    "    'Notion': 20000,\n",
    "    'Obsidian': 4000,\n",
    "    'CSV Tables': 3000,\n",
    "    'Google Docs': 1000,  # ประมาณการ\n",
    "    'Google Sheets': 500,  # ประมาณการ\n",
    "    'Airtable': 200  # ประมาณการ\n",
    "}\n",
    "\n",
    "# สร้าง DataFrame\n",
    "df_sources = pd.DataFrame(list(data_sources.items()), columns=['Source', 'Files'])\n",
    "\n",
    "# แสดงผลเป็นตาราง\n",
    "print(\"ปริมาณไฟล์ตามแหล่งข้อมูล:\")\n",
    "print(df_sources)\n",
    "print(f\"รวมทั้งหมด: {df_sources['Files'].sum()} ไฟล์\")\n",
    "\n",
    "# แสดงผลเป็นกราฟ\n",
    "plt.figure(figsize=(10, 6))\n",
    "sns.barplot(x='Source', y='Files', data=df_sources)\n",
    "plt.title('ปริมาณไฟล์ในแต่ละแหล่งข้อมูล')\n",
    "plt.xticks(rotation=45)\n",
    "plt.tight_layout()\n",
    "plt.show()"
   ]
  },
  {
   "cell_type": "markdown",
   "id": "c293018d",
   "metadata": {},
   "source": [
    "## 2. การคำนวณทรัพยากรสำหรับ RAG\n",
    "\n",
    "คำนวณทรัพยากรที่ต้องใช้สำหรับการทำ RAG กับข้อมูลทั้งหมด"
   ]
  },
  {
   "cell_type": "code",
   "execution_count": null,
   "id": "c26f4d9b",
   "metadata": {},
   "outputs": [],
   "source": [
    "# สมมติฐานสำหรับการคำนวณ\n",
    "avg_file_size_kb = 20  # ขนาดไฟล์เฉลี่ยต่อไฟล์ (KB)\n",
    "avg_chunks_per_file = 5  # จำนวน chunks เฉลี่ยต่อไฟล์\n",
    "avg_vector_size_bytes = 768 * 4  # ขนาดของ vector embedding (768 มิติ, float32 = 4 bytes)\n",
    "embedding_overhead = 1.2  # ค่า overhead สำหรับ index และ metadata\n",
    "\n",
    "# คำนวณขนาดข้อมูลทั้งหมด\n",
    "total_files = df_sources['Files'].sum()\n",
    "total_raw_data_mb = total_files * avg_file_size_kb / 1024\n",
    "total_chunks = total_files * avg_chunks_per_file\n",
    "total_vector_store_size_mb = (total_chunks * avg_vector_size_bytes * embedding_overhead) / (1024 * 1024)\n",
    "\n",
    "print(f\"จำนวนไฟล์ทั้งหมด: {total_files:,} ไฟล์\")\n",
    "print(f\"ขนาดข้อมูลดิบทั้งหมด (ประมาณ): {total_raw_data_mb:.2f} MB\")\n",
    "print(f\"จำนวน chunks ทั้งหมด (ประมาณ): {total_chunks:,} chunks\")\n",
    "print(f\"ขนาด Vector Store ทั้งหมด (ประมาณ): {total_vector_store_size_mb:.2f} MB\")"
   ]
  },
  {
   "cell_type": "markdown",
   "id": "b7d9c419",
   "metadata": {},
   "source": [
    "### 2.1 การคำนวณเวลาและค่าใช้จ่าย"
   ]
  },
  {
   "cell_type": "code",
   "execution_count": null,
   "id": "30e2886d",
   "metadata": {},
   "outputs": [],
   "source": [
    "# สมมติฐานด้านเวลาและค่าใช้จ่าย\n",
    "chunks_per_second_local = 20  # จำนวน chunks ที่สามารถทำ embedding ได้ต่อวินาทีบนเครื่อง\n",
    "chunks_per_second_cloud = 100  # จำนวน chunks ที่สามารถทำ embedding ได้ต่อวินาทีบน cloud\n",
    "gemini_cost_per_1k_tokens = 0.0001  # ค่าใช้จ่ายต่อ 1,000 tokens (USD)\n",
    "avg_tokens_per_chunk = 200  # จำนวน tokens เฉลี่ยต่อ chunk\n",
    "\n",
    "# คำนวณเวลาและค่าใช้จ่าย\n",
    "processing_time_local_hours = total_chunks / chunks_per_second_local / 3600\n",
    "processing_time_cloud_hours = total_chunks / chunks_per_second_cloud / 3600\n",
    "total_tokens = total_chunks * avg_tokens_per_chunk\n",
    "gemini_cost_usd = (total_tokens / 1000) * gemini_cost_per_1k_tokens\n",
    "\n",
    "print(f\"เวลาในการประมวลผลบนเครื่อง: {processing_time_local_hours:.2f} ชั่วโมง ({processing_time_local_hours/24:.2f} วัน)\")\n",
    "print(f\"เวลาในการประมวลผลบน cloud: {processing_time_cloud_hours:.2f} ชั่วโมง ({processing_time_cloud_hours/24:.2f} วัน)\")\n",
    "print(f\"จำนวน tokens ทั้งหมดสำหรับ embedding: {total_tokens:,}\")\n",
    "print(f\"ค่าใช้จ่ายโดยประมาณสำหรับ Gemini API: ${gemini_cost_usd:.2f} USD\")"
   ]
  },
  {
   "cell_type": "markdown",
   "id": "1c5a6256",
   "metadata": {},
   "source": [
    "## 3. การวิเคราะห์แนวทางแก้ปัญหา\n",
    "\n",
    "เปรียบเทียบแนวทางต่างๆ ในการแก้ปัญหา"
   ]
  },
  {
   "cell_type": "code",
   "execution_count": null,
   "id": "d6af3db7",
   "metadata": {},
   "outputs": [],
   "source": [
    "# กำหนดเกณฑ์และคะแนน\n",
    "criteria = [\n",
    "    'ความสะดวกในการใช้งาน', \n",
    "    'ความเป็นส่วนตัว', \n",
    "    'ค่าใช้จ่าย', \n",
    "    'ความยืดหยุ่น',\n",
    "    'การทำงานข้ามอุปกรณ์',\n",
    "    'ความซับซ้อนในการตั้งค่า'\n",
    "]\n",
    "\n",
    "weights = [0.25, 0.15, 0.2, 0.15, 0.15, 0.1]  # น้ำหนักของแต่ละเกณฑ์\n",
    "\n",
    "# แนวทางการแก้ปัญหาต่างๆ\n",
    "solutions = [\n",
    "    'Local RAG แบบดั้งเดิม',\n",
    "    'n8n + Supabase + Cloud API',\n",
    "    'LM Studio + โซลูชันแบบไฮบริด',\n",
    "    'แอปพลิเคชันที่พัฒนาเอง'\n",
    "]\n",
    "\n",
    "# คะแนนของแต่ละโซลูชัน (คะแนน 1-10)\n",
    "scores = [\n",
    "    [6, 10, 9, 5, 3, 4],  # Local RAG แบบดั้งเดิม\n",
    "    [8, 6, 5, 8, 9, 7],   # n8n + Supabase + Cloud API\n",
    "    [7, 8, 7, 7, 5, 6],   # LM Studio + โซลูชันแบบไฮบริด\n",
    "    [9, 9, 6, 10, 8, 3]   # แอปพลิเคชันที่พัฒนาเอง\n",
    "]\n",
    "\n",
    "# คำนวณคะแนนถ่วงน้ำหนัก\n",
    "weighted_scores = np.dot(scores, weights)\n",
    "\n",
    "# สร้าง DataFrame\n",
    "df_scores = pd.DataFrame(scores, columns=criteria, index=solutions)\n",
    "df_scores['คะแนนรวม'] = weighted_scores\n",
    "\n",
    "# แสดงผลตาราง\n",
    "print(\"การวิเคราะห์แนวทางแก้ปัญหา:\")\n",
    "print(df_scores)\n",
    "\n",
    "# แสดงผลกราฟ\n",
    "plt.figure(figsize=(12, 8))\n",
    "\n",
    "# แสดงคะแนนรวม\n",
    "plt.subplot(2, 1, 1)\n",
    "sns.barplot(x=df_scores.index, y=df_scores['คะแนนรวม'])\n",
    "plt.title('คะแนนรวมของแต่ละแนวทาง')\n",
    "plt.xticks(rotation=45)\n",
    "plt.ylim(0, 10)\n",
    "\n",
    "# แสดง radar chart เพื่อเปรียบเทียบคะแนนในแต่ละเกณฑ์\n",
    "plt.subplot(2, 1, 2)\n",
    "df_scores_radar = df_scores.drop(columns=['คะแนนรวม'])\n",
    "angles = np.linspace(0, 2*np.pi, len(criteria), endpoint=False).tolist()\n",
    "angles += angles[:1]  # ปิดวงกลม\n",
    "\n",
    "fig, ax = plt.subplots(figsize=(10, 10), subplot_kw=dict(polar=True))\n",
    "\n",
    "for i, solution in enumerate(solutions):\n",
    "    values = df_scores_radar.iloc[i].values.tolist()\n",
    "    values += values[:1]  # ปิดวงกลม\n",
    "    ax.plot(angles, values, linewidth=2, label=solution)\n",
    "    ax.fill(angles, values, alpha=0.1)\n",
    "\n",
    "ax.set_theta_offset(np.pi / 2)\n",
    "ax.set_theta_direction(-1)\n",
    "ax.set_thetagrids(np.degrees(angles[:-1]), criteria)\n",
    "ax.set_ylim(0, 10)\n",
    "plt.legend(loc='upper right', bbox_to_anchor=(1.2, 1.0))\n",
    "plt.title('เปรียบเทียบคะแนนในแต่ละเกณฑ์')\n",
    "plt.tight_layout()\n",
    "plt.show()"
   ]
  },
  {
   "cell_type": "markdown",
   "id": "7228571b",
   "metadata": {},
   "source": [
    "## 4. การแบ่งงานเป็นเฟส (Phased Approach)\n",
    "\n",
    "วิเคราะห์การแบ่งงานเป็นเฟสเพื่อให้สามารถทำงานได้อย่างมีประสิทธิภาพ"
   ]
  },
  {
   "cell_type": "code",
   "execution_count": null,
   "id": "d8556ca5",
   "metadata": {},
   "outputs": [],
   "source": [
    "# กำหนดเฟสของงานและประมาณการเวลา\n",
    "phases = [\n",
    "    'เฟส 1: แก้ปัญหา Obsidian Sync',\n",
    "    'เฟส 2: ตั้งค่า LM Studio และทดลอง RAG เบื้องต้น',\n",
    "    'เฟส 3: สร้างระบบจัดการข้อมูลพื้นฐาน',\n",
    "    'เฟส 4: พัฒนาระบบ RAG ที่ใช้งานได้จริง',\n",
    "    'เฟส 5: เชื่อมต่อกับแหล่งข้อมูลทั้งหมด'\n",
    "]\n",
    "\n",
    "days_estimate = [3, 7, 14, 21, 30]  # ประมาณการเวลาในหน่วยวัน\n",
    "complexity = [2, 4, 7, 8, 9]  # ความซับซ้อน (1-10)\n",
    "impact = [6, 7, 8, 9, 10]  # ผลกระทบ/ประโยชน์ที่ได้รับ (1-10)\n",
    "\n",
    "# สร้าง DataFrame\n",
    "df_phases = pd.DataFrame({\n",
    "    'เฟส': phases,\n",
    "    'ระยะเวลา (วัน)': days_estimate,\n",
    "    'ความซับซ้อน': complexity,\n",
    "    'ผลกระทบ': impact,\n",
    "    'ค่า ROI': [impact[i]/complexity[i] for i in range(len(phases))]\n",
    "})\n",
    "\n",
    "# แสดงผลตาราง\n",
    "print(\"แผนการแบ่งงานเป็นเฟส:\")\n",
    "print(df_phases)\n",
    "\n",
    "# แสดง Gantt chart อย่างง่าย\n",
    "plt.figure(figsize=(12, 6))\n",
    "\n",
    "# คำนวณวันเริ่มต้นและสิ้นสุดของแต่ละเฟส\n",
    "start_days = [0]\n",
    "for i in range(1, len(days_estimate)):\n",
    "    start_days.append(start_days[i-1] + days_estimate[i-1])\n",
    "\n",
    "# สร้าง Gantt chart\n",
    "for i, phase in enumerate(phases):\n",
    "    plt.barh(phase, days_estimate[i], left=start_days[i], height=0.5, \n",
    "             color=plt.cm.viridis(impact[i]/10))\n",
    "\n",
    "plt.grid(axis='x')\n",
    "plt.tight_layout()\n",
    "plt.title('Gantt Chart แผนการดำเนินงาน')\n",
    "plt.xlabel('วัน')\n",
    "plt.show()\n",
    "\n",
    "# แสดงกราฟเปรียบเทียบความซับซ้อนและผลกระทบ\n",
    "plt.figure(figsize=(12, 6))\n",
    "x = range(len(phases))\n",
    "width = 0.35\n",
    "\n",
    "plt.bar(x, complexity, width, label='ความซับซ้อน', color='salmon')\n",
    "plt.bar([i + width for i in x], impact, width, label='ผลกระทบ', color='skyblue')\n",
    "\n",
    "plt.ylabel('คะแนน (1-10)')\n",
    "plt.title('เปรียบเทียบความซับซ้อนและผลกระทบของแต่ละเฟส')\n",
    "plt.xticks([i + width/2 for i in x], [f'เฟส {i+1}' for i in range(len(phases))])\n",
    "plt.legend()\n",
    "plt.tight_layout()\n",
    "plt.show()"
   ]
  },
  {
   "cell_type": "markdown",
   "id": "7ebc8e2f",
   "metadata": {},
   "source": [
    "## 5. การทดสอบประสิทธิภาพเบื้องต้นของ LM Studio เทียบกับ Ollama\n",
    "\n",
    "เปรียบเทียบประสิทธิภาพเบื้องต้นระหว่าง LM Studio และ Ollama"
   ]
  },
  {
   "cell_type": "code",
   "execution_count": null,
   "id": "13dcf18a",
   "metadata": {},
   "outputs": [],
   "source": [
    "# ข้อมูลเปรียบเทียบประสิทธิภาพ (สมมติขึ้นจากประสบการณ์ทั่วไป)\n",
    "metrics = ['เวลาในการตอบสนอง (วินาที)', 'ความง่ายในการตั้งค่า', 'UI ที่ใช้งานง่าย', 'การใช้หน่วยความจำ', 'การใช้ GPU']\n",
    "lm_studio = [1.5, 9, 8, 7, 8]\n",
    "ollama = [1.2, 5, 3, 8, 7]\n",
    "jan_ai = [1.7, 8, 9, 6, 8]\n",
    "\n",
    "# สร้าง DataFrame\n",
    "df_performance = pd.DataFrame({\n",
    "    'เกณฑ์': metrics,\n",
    "    'LM Studio': lm_studio,\n",
    "    'Ollama': ollama,\n",
    "    'Jan.ai': jan_ai\n",
    "})\n",
    "\n",
    "# แสดงผลตาราง\n",
    "print(\"เปรียบเทียบประสิทธิภาพ:\")\n",
    "print(df_performance)\n",
    "\n",
    "# แสดงกราฟเปรียบเทียบ\n",
    "plt.figure(figsize=(12, 8))\n",
    "df_plot = df_performance.set_index('เกณฑ์')\n",
    "df_plot.plot(kind='bar', figsize=(12, 6))\n",
    "plt.title('เปรียบเทียบประสิทธิภาพระหว่าง LM Studio, Ollama และ Jan.ai')\n",
    "plt.xlabel('เกณฑ์')\n",
    "plt.ylabel('คะแนน (1-10)')\n",
    "plt.xticks(rotation=45)\n",
    "plt.legend(title='เครื่องมือ')\n",
    "plt.tight_layout()\n",
    "plt.show()\n",
    "\n",
    "# สรุปผลการเปรียบเทียบ\n",
    "df_summary = pd.DataFrame({\n",
    "    'เครื่องมือ': ['LM Studio', 'Ollama', 'Jan.ai'],\n",
    "    'คะแนนเฉลี่ย': [sum(lm_studio)/len(lm_studio), sum(ollama)/len(ollama), sum(jan_ai)/len(jan_ai)],\n",
    "    'จุดเด่น': ['UI ที่ใช้งานง่าย, OpenAI API compatibility', 'ความเร็วในการตอบสนอง, Command line', 'UI สวยงาม, เครื่องมือครบถ้วน'],\n",
    "    'จุดด้อย': ['ใช้ทรัพยากรมากกว่า', 'ต้องใช้ Terminal, UI ไม่สวย', 'ค่อนข้างใหม่ ยังมีบั๊กบางส่วน']\n",
    "})\n",
    "\n",
    "print(\"\\nสรุปการเปรียบเทียบ:\")\n",
    "print(df_summary)"
   ]
  },
  {
   "cell_type": "markdown",
   "id": "c9045999",
   "metadata": {},
   "source": [
    "## 6. สรุปและข้อเสนอแนะ\n",
    "\n",
    "จากการวิเคราะห์ทั้งหมด ต่อไปนี้เป็นสรุปและข้อเสนอแนะสำหรับโปรเจกต์ NoteWeave"
   ]
  },
  {
   "cell_type": "code",
   "execution_count": null,
   "id": "b379bb8d",
   "metadata": {},
   "outputs": [],
   "source": [
    "# สรุปโซลูชันที่แนะนำและขั้นตอนถัดไป\n",
    "recommendations = [\n",
    "    \"1. เริ่มต้นจากการแก้ปัญหา Obsidian Sync โดยใช้บริการทางการ ($4/เดือน) ให้เสถียรก่อน\",\n",
    "    \"2. ติดตั้ง LM Studio เพื่อทดแทน Ollama ในการทดลองทำ RAG เบื้องต้น\",\n",
    "    \"3. เริ่มทดลองทำ RAG กับข้อมูลจำนวนน้อย (100-200 ไฟล์) ก่อน เพื่อเรียนรู้กระบวนการ\",\n",
    "    \"4. พัฒนาแอปพลิเคชันอย่างง่ายโดยใช้ Electron/Tauri + SQLite สำหรับจัดการข้อมูล\",\n",
    "    \"5. เพิ่มความสามารถ RAG เข้าไปในแอปเมื่อส่วนจัดการข้อมูลพื้นฐานทำงานได้ดีแล้ว\"\n",
    "]\n",
    "\n",
    "for rec in recommendations:\n",
    "    print(rec)\n",
    "\n",
    "print(\"\\nสรุป: จากการวิเคราะห์พบว่าแนวทางที่เหมาะสมที่สุดคือการพัฒนาแอปพลิเคชันของตัวเองที่เน้นความเรียบง่ายในการใช้งานเป็นหลัก \" + \n",
    "      \"โดยเริ่มต้นจากการแก้ไขปัญหาพื้นฐานก่อน และค่อยๆ เพิ่มความสามารถ AI และ RAG เข้าไปทีหลัง \" + \n",
    "      \"ซึ่งจะช่วยลดความซับซ้อนและความเสี่ยงในการพัฒนาโปรเจกต์\")"
   ]
  }
 ],
 "metadata": {
  "kernelspec": {
   "display_name": "Python 3",
   "language": "python",
   "name": "python3"
  },
  "language_info": {
   "codemirror_mode": {
    "name": "ipython",
    "version": 3
   },
   "file_extension": ".py",
   "mimetype": "text/x-python",
   "name": "python",
   "nbconvert_exporter": "python",
   "pygments_lexer": "ipython3",
   "version": "3.12.10"
  }
 },
 "nbformat": 4,
 "nbformat_minor": 5
}
